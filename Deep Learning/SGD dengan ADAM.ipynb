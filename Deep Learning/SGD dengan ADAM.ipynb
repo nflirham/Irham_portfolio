{
 "cells": [
  {
   "cell_type": "markdown",
   "metadata": {
    "id": "tsWm3B3Fdh98"
   },
   "source": [
    "<p style=\"font-family:Times;font-size:250%; text-align:center\"> <font color='red'>Stochastic Gradient Descent (SGD)</font></p>\n",
    "\n",
    "<p style=\"font-family:Times;font-size:200%; text-align:center\"> <font color='red'>Dengan ADAM</font></p>\n",
    "\n",
    "___\n",
    "\n"
   ]
  },
  {
   "cell_type": "markdown",
   "metadata": {},
   "source": [
    "# Tugas 2 DL2021\n",
    "## M.Naufal Irham R. (108181019)\n",
    "\n",
    "Code di bawah ini tidak banyak diubah agar memudahkan dalam mengkoreksi. Hanya beberapa baris saja yang diubah untuk kebutuhan modifikasi optimizer menjadi optimizer ADAM"
   ]
  },
  {
   "cell_type": "code",
   "execution_count": 1,
   "metadata": {
    "id": "630JdZnudh-D"
   },
   "outputs": [],
   "source": [
    "from numpy import *   \n",
    "import numpy as np\n",
    "from numpy.random import *\n",
    "import pandas as pd\n",
    "import pickle\n",
    "import matplotlib.pyplot as plt\n",
    "from datetime import datetime\n",
    "%matplotlib inline\n",
    "\n",
    "np.set_printoptions(precision = 3, suppress = True, formatter = {'float':'{:5.4f}'.format})\n",
    "\n",
    "#Sigmoid function & its derivative\n",
    "sigmoid = lambda Z: 1/(1+exp(-Z))\n",
    "dsigmoid = lambda A: A*(1-A)\n",
    "\n",
    "#ReLU function & its derivative\n",
    "ReLU  = lambda Z: Z.clip(0)\n",
    "#Derivative of ReLU function\n",
    "dReLU = lambda A: (A > 0)*1\n",
    "\n",
    "#Derivativer of tanh()\n",
    "dtanh = lambda A: 1-A**2\n",
    "\n",
    "#Derivative oh arctanh\n",
    "darctanh = lambda A: 1/(A**2+1)\n",
    "\n",
    "#Softplus function & its derivative\n",
    "splus = lambda Z: log(1+exp(Z))\n",
    "dsplus = lambda A: 1/(1+exp(-A))\n",
    "\n",
    "linear = lambda X,w,b: X@w+b\n",
    "\n",
    "\"Time step (ts)\"\n",
    "def steps(x, step):   \n",
    "    obs  = len(x)-step\n",
    "    xt   = x[:obs,:]\n",
    "    for i in arange(1,step+1):\n",
    "        xt = hstack((xt, x[i:obs+i,:]))   \n",
    "    return xt"
   ]
  },
  {
   "cell_type": "code",
   "execution_count": 2,
   "metadata": {
    "id": "Z23sBcLVdh-F"
   },
   "outputs": [],
   "source": [
    "class NeuralNetwork:\n",
    "    \n",
    "    def __init__(self,x,y,hlayers,alpha,mbs): # ada h nodes di dalam hidden layer  hlayers = [7, 3, 34, 89]\n",
    "        self.X  = x   #input\n",
    "        self.y  = y   #output\n",
    "        self.hlayers = hlayers   #note: untuk model Perceptron gunakan hlayers = []\n",
    "        self.α  = alpha\n",
    "        self.mbs = mbs\n",
    "        \n",
    "        #self.Xt = x   #akan digunakan untuk SGD\n",
    "        #self.yt = y   #akan digunakisn di SGD\n",
    "        \n",
    "        assert ndim(y)            == 2     #y harus berupa matriks (berdimensi 2)\n",
    "        assert type(self.hlayers) == list  #hlayers harus berupa sebuah list\n",
    "        \n",
    "        self.N, ni = shape(x)   #jumlah features (variables)\n",
    "        self.N, no = shape(y)   #jumlah observasi (self.N) dan jumlah output (no)\n",
    "        \n",
    "        self.neurons = [ni]\n",
    "        self.neurons.extend(self.hlayers)\n",
    "        self.neurons.append(no)   #jumlah neurons per layer, termasuk input layer \n",
    "        self.nlayers  = len(self.neurons)-1  #number of layers (tidak termasuk input layer)\n",
    "\n",
    "        \"Initial values untuk parameter w and b\"\n",
    "\n",
    "        self.w, self.b = [], []\n",
    "        for i in arange(self.nlayers):\n",
    "            self.w.append(randn(self.neurons[i], self.neurons[i+1]))  #Sinapsis dari layer ke i menuju layer ke (i+1)  \n",
    "            self.b.append(randn(1, self.neurons[i+1]))           #Bias di layer ke (i+1)    \n",
    "        \n",
    "        ###Modifikasi ada dibawah ini#################################\n",
    "        self.Vw, self.Vb = [], []\n",
    "        for i in arange(self.nlayers):\n",
    "            self.Vw.append(zeros((self.neurons[i], self.neurons[i+1])))  \n",
    "            self.Vb.append(zeros((1, self.neurons[i+1])))  \n",
    "\n",
    "        self.Mw, self.Mb = [], []\n",
    "        for i in arange(self.nlayers):\n",
    "            self.Mw.append(zeros((self.neurons[i], self.neurons[i+1])))  \n",
    "            self.Mb.append(zeros((1, self.neurons[i+1])))  \n",
    "        #############################################################\n",
    "\n",
    "    def training(self):\n",
    "        acak  = choice(len(self.y), int(self.mbs*len(self.y)), replace = False)   #bikin indeks pengambilan secara acak sebesar bs\n",
    "        Xmini = self.X[acak]   #mini batch sample dari X\n",
    "        ymini = self.y[acak]   #mini batch sample dari y\n",
    "\n",
    "        t = 1 #Waktu\n",
    "\n",
    "        for Xt,yt in zip(Xmini,ymini):\n",
    "        \n",
    "            \"Forward propagation (perambatan maju)\"\n",
    "    \n",
    "            Z, A = [], [Xt]\n",
    "        \n",
    "            \"Dimulai dari Hidden layers\"\n",
    "            for j in arange(len(hlayers)):   #hanya hidden layers\n",
    "                Z.append(linear(A[j],self.w[j],self.b[j]))  #Reaksi kimia di layer ke (j + 1)\n",
    "                A.append(tanh(Z[j]))     #Aliran listrik di layer ke (j + 1)\n",
    "        \n",
    "            \"Output layer\"\n",
    "            Z.append(linear(A[self.nlayers-1],self.w[self.nlayers-1],self.b[self.nlayers-1]))  #Reaksi kimia di output layer\n",
    "            A.append(sigmoid(Z[self.nlayers-1]))\n",
    "            \n",
    "            self.predicted_yt = A[self.nlayers]\n",
    "            e         = yt-self.predicted_yt\n",
    "            self.z = Z\n",
    "            self.a = A\n",
    "            \n",
    "            \"Backward propagation (perambatan mundur)\"\n",
    "        \n",
    "            \n",
    "            \"Dimulai dari output layer\"\n",
    "            dCdZ = [(-2*e/len(yt))*dsigmoid(A[::-1][0])]  #berbentuk list agar bisa di-append, mulai dari output layer\n",
    "\n",
    "            \"Hidden layer\"                                           \n",
    "            for m in arange(self.nlayers-1):  #dan mundur ke layer berikutnya, sampai hidden layer pertama\n",
    "                dCdZ.append((dCdZ[m]@(self.w[::-1][m]).T)*dtanh(A[::-1][m+1]))   #delta\n",
    "            \n",
    "\n",
    "            ### Modidikasi ada dibawah ini ########################## \n",
    "            \"Perubahan parameters (w dan b):\"\n",
    "            one  = ones([1,len(yt)])\n",
    "            \n",
    "            beta1   = 0.9\n",
    "            beta2   = 0.999\n",
    "            epsilon = 10**(-8) \n",
    "\n",
    "            for n in arange(self.nlayers):\n",
    "                \n",
    "                \"Algoritma ADAM\"               \n",
    "                self.gw = A[n].T@dCdZ[::-1][n] #Dapatkan gradients untuk w dari dCdZ \n",
    "\n",
    "                self.Mw[n] = beta1*array(self.Mw[n]) + (1-beta1)*self.gw\n",
    "                self.Vw[n] = beta2*array(self.Vw[n]) + (1-beta2)*(self.gw)**2\n",
    "                \n",
    "                MwHat = self.Mw[n]/(1-(beta1)**t)\n",
    "                VwHat = self.Vw[n]/(1-(beta2)**t)\n",
    "\n",
    "                self.w[n] -= self.α*MwHat/(sqrt(VwHat) + epsilon) #Update parameter w\n",
    "              \n",
    "                self.gb = one@dCdZ[::-1][n] #Dapatkan gradients untuk b dari dCdZ    \n",
    "\n",
    "                self.Mb[n] = beta1*array(self.Mb[n]) + (1-beta1)*self.gb\n",
    "                self.Vb[n] = beta2*array(self.Vb[n]) + (1-beta2)*(self.gb)**2\n",
    "                \n",
    "                MbHat = self.Mb[n]/(1-(beta1)**t)\n",
    "                VbHat = self.Vb[n]/(1-(beta2)**t)\n",
    "                \n",
    "                self.b[n] -= self.α*MbHat/(sqrt(VbHat) + epsilon) #Update parameter b\n",
    "\n",
    "\n",
    "            t += 1\n",
    "            ###############################################################\n",
    "\n",
    "    def prediction(self, Xs, ys):   #Gunakan data secara keseluruhan\n",
    "        \n",
    "        \"Forward propagation (perambatan maju)\"\n",
    "    \n",
    "        Z, A = [], [Xs]\n",
    "        \n",
    "        \"Dimulai dari Hidden layers\"\n",
    "        for j in arange(len(hlayers)):   #hanya hidden layers\n",
    "            Z.append(linear(A[j],self.w[j],self.b[j]))  #Reaksi kimia di layer ke (j + 1)\n",
    "            A.append(tanh(Z[j]))     #Aliran listrik di layer ke (j + 1)\n",
    "        \n",
    "        \"Output layer\"\n",
    "        Z.append(linear(A[self.nlayers-1],self.w[self.nlayers-1],self.b[self.nlayers-1]))  #Reaksi kimia di output layer\n",
    "        A.append(sigmoid(Z[self.nlayers-1]))\n",
    "    \n",
    "        self.predicted_y = A[self.nlayers]\n",
    "        e         = ys-self.predicted_y\n",
    "        self.Cost = e.T@e/len(ys)  #mean squared error"
   ]
  },
  {
   "cell_type": "code",
   "execution_count": 3,
   "metadata": {
    "colab": {
     "base_uri": "https://localhost:8080/",
     "height": 514
    },
    "id": "N_hCAeENdh-I",
    "outputId": "ef9f413e-4b54-493d-845b-466cc523783a"
   },
   "outputs": [
    {
     "name": "stdout",
     "output_type": "stream",
     "text": [
      "Sampai epoch ke 25 dicapai akurasi MSE sebesar 0.0010420 dengan waktu 0:00:02.117113\n",
      "Sampai epoch ke 50 dicapai akurasi MSE sebesar 0.0023439 dengan waktu 0:00:04.165130\n",
      "Sampai epoch ke 75 dicapai akurasi MSE sebesar 0.0007611 dengan waktu 0:00:06.244216\n",
      "Sampai epoch ke 100 dicapai akurasi MSE sebesar 0.0027724 dengan waktu 0:00:08.252598\n",
      "Sampai epoch ke 125 dicapai akurasi MSE sebesar 0.0008590 dengan waktu 0:00:09.954150\n",
      "Sampai epoch ke 150 dicapai akurasi MSE sebesar 0.0007472 dengan waktu 0:00:11.076994\n",
      "Sampai epoch ke 175 dicapai akurasi MSE sebesar 0.0007912 dengan waktu 0:00:12.139892\n",
      "Sampai epoch ke 200 dicapai akurasi MSE sebesar 0.0010057 dengan waktu 0:00:13.307916\n",
      "Sampai epoch ke 225 dicapai akurasi MSE sebesar 0.0012393 dengan waktu 0:00:14.371576\n",
      "Sampai epoch ke 250 dicapai akurasi MSE sebesar 0.0008272 dengan waktu 0:00:15.442282\n",
      "\n",
      "Akurasi dengan data training: 0.0008272 \n",
      "\n"
     ]
    },
    {
     "data": {
      "image/png": "[encoded data removed]",
      "text/plain": [
       "<Figure size 432x288 with 1 Axes>"
      ]
     },
     "metadata": {
      "needs_background": "light"
     },
     "output_type": "display_data"
    },
    {
     "name": "stdout",
     "output_type": "stream",
     "text": [
      "Waktu yang diperlukan dari mulai training (250 epochs):  0:00:16.522066\n"
     ]
    }
   ],
   "source": [
    "A  = pd.read_csv('D:/Downloadables/Data/INAF.JK.csv')  #Data time series harian harga saham Bank Mandiri sejak 02 Januari 2015\n",
    "A6 = A['Adj Close'].values   #Ambil kolom ke enam berisi 'Adj Close', \n",
    "B  = A6[:,newaxis]  #berupa matriks\n",
    "                                     \n",
    "Bmin = min(B)\n",
    "Bmax = max(B)\n",
    "b = (B-Bmin)/(Bmax-Bmin)\n",
    "\n",
    "ts = 1  #Di literatur Time Series digunakan istilah 'lag' sebagai padanan istilah 'timestep' ini\n",
    "xt = steps(b, ts)  #Dihasilkan matriks dengan 2 (= ts+1) kolom, kolom pertama menjadi variabel X\n",
    "                   #dan kolom terkhir menjadi variabel y\n",
    "\n",
    "x = xt[-800:,:]    #Ambil 800 observasi terakhir\n",
    "\n",
    "#Data untuk training\n",
    "Xtrain = x[0:680, :-1]   #Ambil 680 observasi yang pertama dan hilangkan kolom terakhir\n",
    "ytrain = x[0:680:, -1:]  #Ambil 680 observasi yang pertama dan ambil kolom terakhir sebagai variabel y \n",
    "\n",
    "#Data untuk testing\n",
    "Xtest = x[680:, :-1]   #ambil jumlah observasi sebanyak 120, hilangkan kolom terakhir (untuk y)\n",
    "ytest = x[680:, -1:]   #ambil kolom terakhir\n",
    "\n",
    "hlayers = [3, 2]  #Dua hidden layers, masing-masing dengan 3 neurons dan 2 neurons\n",
    "alpha   = 0.05\n",
    "mbs     = 0.15  #hanya 15% dari seluruh observasi yang digunakan untuk penaksiran parameter\n",
    "epochs  = 250\n",
    "#Rangkuman activation function di hidden layers & output layer\n",
    "\n",
    "#tanh & sigmoid:\n",
    "#SGD dengan Momentum: mbs = 0.15, alpha = 0.65, beta = 0.1, epochs = 400 initial values di luar epochs\n",
    "#SGD : mbs = 1,    alpha = 0.17,  epochs = 70, \n",
    "#MBGD: mbs = 0.15, alpha = 0.165, epochs = 400, alpha = 0.27, epochs = 1600\n",
    "#      mbs = 0.20, alpha = 0.165, epochs = 450\n",
    "\n",
    "tic = datetime.now()\n",
    "\n",
    "seed(20200219)\n",
    "\n",
    "ann2 = NeuralNetwork(Xtrain,ytrain,hlayers,alpha,mbs)   #pembuatan object ann2\n",
    "\n",
    "for t in range(epochs): \n",
    "    ann2.training()\n",
    "    ann2.prediction(Xtrain,ytrain)   #Gunakan data untuk training secara keseluruhan\n",
    "    \n",
    "    if (t+1)%(epochs/10) == 0:   #tampilkan output lima kali\n",
    "        print(\"Sampai epoch ke\", t+1,\"dicapai akurasi MSE sebesar %8.7f\" %ann2.Cost,\"dengan waktu\", datetime.now()-tic)\n",
    "\n",
    "toc = datetime.now()\n",
    "print('\\nAkurasi dengan data training: %8.7f' %ann2.Cost,'\\n')\n",
    "\n",
    "plt.plot(ytrain, label = 'actual series')\n",
    "plt.plot(ann2.predicted_y, label = 'predicted series')\n",
    "plt.legend()\n",
    "plt.show()\n",
    "\n",
    "toc = datetime.now()\n",
    "print(f'Waktu yang diperlukan dari mulai training ({epochs} epochs): ', toc-tic)"
   ]
  },
  {
   "cell_type": "markdown",
   "metadata": {
    "id": "MrQGcC6Hdh-K"
   },
   "source": [
    "#### Test model Deep Learning dengan data di periode yang lain"
   ]
  },
  {
   "cell_type": "code",
   "execution_count": 4,
   "metadata": {
    "colab": {
     "base_uri": "https://localhost:8080/",
     "height": 336
    },
    "id": "mbsFGVL0dh-N",
    "outputId": "3e080e8a-0930-42a9-b581-6eb903931403"
   },
   "outputs": [
    {
     "name": "stdout",
     "output_type": "stream",
     "text": [
      "\n",
      "MSE training: 0.0008272 \n",
      "MSE testing : 0.0025428\n"
     ]
    },
    {
     "data": {
      "image/png": "[encoded data removed]",
      "text/plain": [
       "<Figure size 432x288 with 1 Axes>"
      ]
     },
     "metadata": {
      "needs_background": "light"
     },
     "output_type": "display_data"
    },
    {
     "name": "stdout",
     "output_type": "stream",
     "text": [
      "Waktu untuk training (dengan 250 epochs) dan prediksi:  0:00:17.280198\n"
     ]
    }
   ],
   "source": [
    "#Parameters w0, w1 dan w2 sebagai ilmu pengetahuan atau knowledge yang diperoleh selama training \n",
    "#akan digunakan disini untuk di-test kemampuannya memprediksi. \n",
    "#Data yang dipakai Xtest dan ytest yang tidak digunakan selama training.\n",
    "\n",
    "Cost_train = ann2.Cost    #Ini untuk data untuk training\n",
    "\n",
    "ann2.prediction(Xtest,ytest)   #Gunakan data untuk test\n",
    "predicted_ytest = ann2.predicted_y\n",
    "Cost_test = ann2.Cost          #Ini dengan data untuk test \n",
    "\n",
    "print('\\nMSE training: %8.7f'%Cost_train,'\\nMSE testing : %8.7f'%Cost_test)\n",
    "\n",
    "ytesto    = ytest*(Bmax-Bmin)+Bmin      #Kembalikan datanya ke original unit dalam satuan dolar\n",
    "ytesthato = predicted_ytest*(Bmax-Bmin)+Bmin   #Kembalikan datanya ke original unit dalam satuan dolar\n",
    "\n",
    "plt.plot(ytesto, label = 'actual series')\n",
    "plt.plot(ytesthato, label = 'predicted series')\n",
    "plt.legend()\n",
    "plt.show()\n",
    "toc = datetime.now()\n",
    "\n",
    "print(f'Waktu untuk training (dengan {epochs} epochs) dan prediksi: ',  toc-tic)"
   ]
  },
  {
   "cell_type": "code",
   "execution_count": 5,
   "metadata": {
    "id": "TUK35jvxdh-R"
   },
   "outputs": [],
   "source": [
    "\"Proses penyimpanan model:\"\n",
    "\n",
    "#Parameters w dan b dijadikan satu list dalam params\n",
    "params = [ann2.w, ann2.b]\n",
    "\n",
    "#Simpan params di dalam IntelModel.dat di komputer\n",
    "pickle.dump(params, open(\"MandiriModel.dat\", \"wb\"))  #Penyimpanan model parameters, wb: write binary data\n",
    "\n",
    "#Diasumsikan sudah ada tambahan data baru Xtest maka langkah prediksi harga saham mirip seperti \n",
    "#yang dilakukan di atas. Tambahan data baru bisa pula berasal dari hasil prediksi sebelumnya \n",
    "#bila mau dilakukan prediksi yang iteratif.\n",
    "\n",
    "#Caranya, panggil lagi paramaters dari model Deep Learning:"
   ]
  },
  {
   "cell_type": "markdown",
   "metadata": {
    "id": "drD-5lHZdh-T"
   },
   "source": [
    "#### Pemanggilan dan penggunaan Model Deep Learning oleh pihak lain\n",
    ">Model Deep Learning akan dipanggil dan digunakan untuk forecasting"
   ]
  },
  {
   "cell_type": "code",
   "execution_count": 6,
   "metadata": {
    "colab": {
     "base_uri": "https://localhost:8080/",
     "height": 318
    },
    "id": "CzbGq9Gsdh-T",
    "outputId": "1a1ed23f-449a-4026-ffa1-01b3fcf754df"
   },
   "outputs": [
    {
     "name": "stdout",
     "output_type": "stream",
     "text": [
      "\n",
      "MSE training: 0.0008272 \n",
      "MSE testing : 0.0025428\n"
     ]
    },
    {
     "data": {
      "image/png": "[encoded data removed]",
      "text/plain": [
       "<Figure size 432x288 with 1 Axes>"
      ]
     },
     "metadata": {
      "needs_background": "light"
     },
     "output_type": "display_data"
    }
   ],
   "source": [
    "\"Proses pemanggilan model\"\n",
    "pars = pickle.load(open(\"MandiriModel.dat\", \"rb\"))  #rb: read binary data\n",
    "w = pars[0]\n",
    "b = pars[1]\n",
    "nlayers = len(w)\n",
    "\n",
    "\"Forward propagation (perambatan maju)\"\n",
    "    \n",
    "Z, A = [], [Xtest]\n",
    "        \n",
    "\"Dimulai dari Hidden layers\"\n",
    "for j in arange(len(hlayers)):   #hanya hidden layers\n",
    "    Z.append(linear(A[j],w[j],b[j]))  #Reaksi kimia di layer ke (j + 1)\n",
    "    A.append(tanh(Z[j]))     #Aliran listrik di layer ke (j + 1)\n",
    "        \n",
    "\"Output layer\"\n",
    "Z.append(linear(A[nlayers-1],w[nlayers-1],b[nlayers-1]))  #Reaksi kimia di output layer\n",
    "A.append(sigmoid(Z[nlayers-1]))\n",
    "    \n",
    "predicted_ytest = A[nlayers]\n",
    "e         = ytest-predicted_ytest\n",
    "Cost_test = e.T@e/len(ytest)  #mean squared error\n",
    "\n",
    "#ann2.prediction(Xtest,ytest)   #Gunakan data untuk test\n",
    "#ytesthat = ann2.predicted_y\n",
    "#Cost_test = ann2.Cost          #Ini dengan data untuk test \n",
    "\n",
    "print('')\n",
    "print('MSE training: %8.7f'%Cost_train,'\\nMSE testing : %7.7f'%Cost_test)\n",
    "\n",
    "\"Kembalikan datanya ke original unit dalam satuan dolar\"\n",
    "ytesto = ytest*(Bmax-Bmin)+Bmin       \n",
    "ytesthato = predicted_ytest*(Bmax-Bmin)+Bmin \n",
    "\n",
    "plt.plot(ytesto, label = 'actual series')\n",
    "plt.plot(ytesthato, label = 'predicted series')\n",
    "plt.legend()\n",
    "plt.show()"
   ]
  },
  {
   "cell_type": "code",
   "execution_count": null,
   "metadata": {},
   "outputs": [],
   "source": []
  }
 ],
 "metadata": {
  "colab": {
   "collapsed_sections": [],
   "name": "TUGAS 2 DL 2021 - 10818019 - SGD dengan Momentum Nesterov.ipynb",
   "provenance": []
  },
  "kernelspec": {
   "display_name": "Python 3",
   "language": "python",
   "name": "python3"
  },
  "language_info": {
   "codemirror_mode": {
    "name": "ipython",
    "version": 3
   },
   "file_extension": ".py",
   "mimetype": "text/x-python",
   "name": "python",
   "nbconvert_exporter": "python",
   "pygments_lexer": "ipython3",
   "version": "3.8.5"
  }
 },
 "nbformat": 4,
 "nbformat_minor": 4
}
