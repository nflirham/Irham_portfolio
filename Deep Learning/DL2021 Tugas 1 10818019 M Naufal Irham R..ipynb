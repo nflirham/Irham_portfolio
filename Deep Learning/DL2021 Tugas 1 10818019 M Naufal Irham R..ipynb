{
  "nbformat": 4,
  "nbformat_minor": 0,
  "metadata": {
    "colab": {
      "name": "Tugas DL2021",
      "provenance": [],
      "collapsed_sections": []
    },
    "kernelspec": {
      "name": "python3",
      "display_name": "Python 3"
    }
  },
  "cells": [
    {
      "cell_type": "markdown",
      "metadata": {
        "id": "S9Ju8mhmgz66"
      },
      "source": [
        "#Tugas 1 DL2021\r\n",
        "##M. Naufal Irham R. (10818019)"
      ]
    },
    {
      "cell_type": "code",
      "metadata": {
        "id": "Sv1ual9UdoDi"
      },
      "source": [
        "#Import libraries\r\n",
        "from numpy import *   \r\n",
        "import numpy as np\r\n",
        "from numpy.random import *\r\n",
        "import pandas as pd\r\n",
        "import matplotlib.pyplot as plt\r\n",
        "from datetime import datetime\r\n",
        "import pandas_datareader as web #Perlu library ini, agar data diambil langsung dari internet, jadi selalu update\r\n",
        "%matplotlib inline"
      ],
      "execution_count": 1,
      "outputs": []
    },
    {
      "cell_type": "code",
      "metadata": {
        "id": "a1JPLOvueOWa"
      },
      "source": [
        "set_printoptions(suppress = True, formatter = {'float':'{:7.4f}'.format})"
      ],
      "execution_count": 2,
      "outputs": []
    },
    {
      "cell_type": "code",
      "metadata": {
        "id": "0fgnk0pheaQL"
      },
      "source": [
        "#activation function\r\n",
        "sigmoid = lambda x: 1/(1+exp(-x))\r\n",
        "\r\n",
        "#derivative of activation function\r\n",
        "dsigmoid = lambda x: x*(1-x)"
      ],
      "execution_count": 3,
      "outputs": []
    },
    {
      "cell_type": "code",
      "metadata": {
        "id": "pmrox9R0SkNi",
        "colab": {
          "base_uri": "https://localhost:8080/",
          "height": 225
        },
        "outputId": "7e7a291a-35a5-48dc-becf-0b9b5b600fd8"
      },
      "source": [
        "#Ddata diambil langsung dari Yahoo\r\n",
        "df  = web.DataReader('INAF.JK', data_source= 'yahoo', start = '2016-02-17')\r\n",
        "df.head()"
      ],
      "execution_count": 4,
      "outputs": [
        {
          "output_type": "execute_result",
          "data": {
            "text/html": [
              "<div>\n",
              "<style scoped>\n",
              "    .dataframe tbody tr th:only-of-type {\n",
              "        vertical-align: middle;\n",
              "    }\n",
              "\n",
              "    .dataframe tbody tr th {\n",
              "        vertical-align: top;\n",
              "    }\n",
              "\n",
              "    .dataframe thead th {\n",
              "        text-align: right;\n",
              "    }\n",
              "</style>\n",
              "<table border=\"1\" class=\"dataframe\">\n",
              "  <thead>\n",
              "    <tr style=\"text-align: right;\">\n",
              "      <th></th>\n",
              "      <th>High</th>\n",
              "      <th>Low</th>\n",
              "      <th>Open</th>\n",
              "      <th>Close</th>\n",
              "      <th>Volume</th>\n",
              "      <th>Adj Close</th>\n",
              "    </tr>\n",
              "    <tr>\n",
              "      <th>Date</th>\n",
              "      <th></th>\n",
              "      <th></th>\n",
              "      <th></th>\n",
              "      <th></th>\n",
              "      <th></th>\n",
              "      <th></th>\n",
              "    </tr>\n",
              "  </thead>\n",
              "  <tbody>\n",
              "    <tr>\n",
              "      <th>2016-02-17</th>\n",
              "      <td>330.0</td>\n",
              "      <td>314.0</td>\n",
              "      <td>316.0</td>\n",
              "      <td>321.0</td>\n",
              "      <td>8334700.0</td>\n",
              "      <td>321.0</td>\n",
              "    </tr>\n",
              "    <tr>\n",
              "      <th>2016-02-18</th>\n",
              "      <td>325.0</td>\n",
              "      <td>310.0</td>\n",
              "      <td>325.0</td>\n",
              "      <td>318.0</td>\n",
              "      <td>3805600.0</td>\n",
              "      <td>318.0</td>\n",
              "    </tr>\n",
              "    <tr>\n",
              "      <th>2016-02-19</th>\n",
              "      <td>320.0</td>\n",
              "      <td>312.0</td>\n",
              "      <td>314.0</td>\n",
              "      <td>318.0</td>\n",
              "      <td>878300.0</td>\n",
              "      <td>318.0</td>\n",
              "    </tr>\n",
              "    <tr>\n",
              "      <th>2016-02-22</th>\n",
              "      <td>319.0</td>\n",
              "      <td>308.0</td>\n",
              "      <td>318.0</td>\n",
              "      <td>313.0</td>\n",
              "      <td>1346500.0</td>\n",
              "      <td>313.0</td>\n",
              "    </tr>\n",
              "    <tr>\n",
              "      <th>2016-02-23</th>\n",
              "      <td>317.0</td>\n",
              "      <td>299.0</td>\n",
              "      <td>313.0</td>\n",
              "      <td>303.0</td>\n",
              "      <td>1584800.0</td>\n",
              "      <td>303.0</td>\n",
              "    </tr>\n",
              "  </tbody>\n",
              "</table>\n",
              "</div>"
            ],
            "text/plain": [
              "             High    Low   Open  Close     Volume  Adj Close\n",
              "Date                                                        \n",
              "2016-02-17  330.0  314.0  316.0  321.0  8334700.0      321.0\n",
              "2016-02-18  325.0  310.0  325.0  318.0  3805600.0      318.0\n",
              "2016-02-19  320.0  312.0  314.0  318.0   878300.0      318.0\n",
              "2016-02-22  319.0  308.0  318.0  313.0  1346500.0      313.0\n",
              "2016-02-23  317.0  299.0  313.0  303.0  1584800.0      303.0"
            ]
          },
          "metadata": {
            "tags": []
          },
          "execution_count": 4
        }
      ]
    },
    {
      "cell_type": "code",
      "metadata": {
        "id": "_pPvegFDgcw_"
      },
      "source": [
        "feature = ['Adj Close','Volume']\r\n",
        "\r\n",
        "n_df = np.shape(df)[0] #Banyaknya baris data\r\n",
        "\r\n",
        "#maxmin scaling\r\n",
        "feature_1 = (df[feature[0]]-min(df[feature[0]]))/(max(df[feature[0]])-min(df[feature[0]]))\r\n",
        "feature_2 = (df[feature[1]]-min(df[feature[1]]))/(max(df[feature[1]])-min(df[feature[1]]))\r\n",
        "\r\n",
        "#Berapa banyak data yang digunakan untuk training\r\n",
        "persen_data = 0.8\r\n",
        "steps = 3\r\n",
        "\r\n",
        "x_train_1 = feature_1[:int(n_df*persen_data)].values\r\n",
        "x_train_2 = feature_2[:int(n_df*persen_data)].values\r\n",
        "y_train = feature_1[steps:int(n_df*persen_data)+steps].values\r\n",
        "\r\n",
        "x_test_1  = feature_1[int(n_df*persen_data):-steps]\r\n",
        "x_test_2  = feature_2[int(n_df*persen_data):-steps]\r\n",
        "y_test  = feature_1[int(n_df*persen_data)+steps:]"
      ],
      "execution_count": 5,
      "outputs": []
    },
    {
      "cell_type": "code",
      "metadata": {
        "id": "9JCbhHT4Ak8M"
      },
      "source": [
        "input  = vstack(([x_train_1],[x_train_2]))\r\n",
        "output = [y_train] "
      ],
      "execution_count": 6,
      "outputs": []
    },
    {
      "cell_type": "code",
      "metadata": {
        "id": "g7Sp7miMMsNL"
      },
      "source": [
        "class NNetwork(object):\r\n",
        "    def __init__(self, x, y, layer = [1,1], learning_rate = 1):\r\n",
        "      assert ndim(x) == 2\r\n",
        "      assert ndim(y) == 2\r\n",
        "      self.input      = np.array(x).T\r\n",
        "      self.output     = np.array(y).T \r\n",
        "      self.alpha      = learning_rate\r\n",
        "      self.N          = np.shape(self.output)[0] #Banyaknya observasi yang digunakan\r\n",
        "      n_input         = np.shape(self.input)[1] #Banyaknya feature yang digunakan\r\n",
        "      n_output        = np.shape(self.output)[1] #Banyaknya output yang dihasilkan\r\n",
        "\r\n",
        "      neurons      = [n_input]\r\n",
        "      neurons.extend(layer)\r\n",
        "      neurons.append(n_output)\r\n",
        "\r\n",
        "      self.n_layer    = len(neurons) - 1 #Banyaknya layer tanpa input\r\n",
        "\r\n",
        "      seed(20201212)\r\n",
        "      self.w          = []\r\n",
        "      self.b          = []\r\n",
        "      for i in range(self.n_layer):\r\n",
        "        self.w.append(np.random.randn(neurons[i], neurons[i+1]))\r\n",
        "        self.b.append(np.random.randn(1, neurons[i+1]))\r\n",
        "    \r\n",
        "    def forward(self,x,y): \r\n",
        "      Z, self.A = [], [x]\r\n",
        "      for i in arange(self.n_layer):\r\n",
        "        Z.append(self.A[i]@self.w[i]+self.b[i])\r\n",
        "        self.A.append(sigmoid(Z[i]))\r\n",
        "      \r\n",
        "      self.y_hat = self.A[self.n_layer]\r\n",
        "      self.error = y-self.y_hat\r\n",
        "      self.MSE   = (self.error.T@self.error)/self.N\r\n",
        "\r\n",
        "    def backward(self):\r\n",
        "      dCdZ = [(-2*self.error/self.N)*dsigmoid(self.A[::-1][0])] \r\n",
        "      for m in arange(self.n_layer-1):\r\n",
        "        dCdZ.append((dCdZ[m]@self.w[::-1][m].T)*dsigmoid(self.A[::-1][m+1]))        \r\n",
        "           \r\n",
        "      one = ones([1,self.N])\r\n",
        "      dCdW, dCdb = [], []\r\n",
        "      for n in arange(self.n_layer):\r\n",
        "        dCdw = self.A[n].T@dCdZ[::-1][n]\r\n",
        "        dCdb = one@dCdZ[::-1][n]\r\n",
        "        self.w[n] = self.w[n] - self.alpha*dCdw\r\n",
        "        self.b[n] = self.b[n] - self.alpha*dCdb\r\n",
        "      \r\n",
        "    def train(self, epochs = 10000):\r\n",
        "      for i in range(1,epochs+1):\r\n",
        "        self.forward(self.input, self.output)\r\n",
        "        self.backward()\r\n",
        "        if i%(epochs/5) == 0:\r\n",
        "          print('Pada epoch ke-', i, 'MSE =', self.MSE)\r\n",
        "      return self.y_hat\r\n"
      ],
      "execution_count": 7,
      "outputs": []
    },
    {
      "cell_type": "code",
      "metadata": {
        "colab": {
          "base_uri": "https://localhost:8080/"
        },
        "id": "wkhikrxepuN4",
        "outputId": "8901d8b6-ec1c-448e-c96d-5d213fba519c"
      },
      "source": [
        "#Melakukan training\r\n",
        "\r\n",
        "percobaan = NNetwork(input, output, [4,3], learning_rate = 12)\r\n",
        "y = percobaan.train(epochs=9000)\r\n",
        "\r\n",
        "y = y*(max(df[feature[0]])-min(df[feature[0]]))+min(df[feature[0]])"
      ],
      "execution_count": 8,
      "outputs": [
        {
          "output_type": "stream",
          "text": [
            "Pada epoch ke- 1800 MSE = [[ 0.0043]]\n",
            "Pada epoch ke- 3600 MSE = [[ 0.0033]]\n",
            "Pada epoch ke- 5400 MSE = [[ 0.0028]]\n",
            "Pada epoch ke- 7200 MSE = [[ 0.0025]]\n",
            "Pada epoch ke- 9000 MSE = [[ 0.0023]]\n"
          ],
          "name": "stdout"
        }
      ]
    },
    {
      "cell_type": "code",
      "metadata": {
        "colab": {
          "base_uri": "https://localhost:8080/",
          "height": 431
        },
        "id": "4VZETCEA31Nh",
        "outputId": "986f0224-4ea3-498a-e7fd-18387898867b"
      },
      "source": [
        "hasil_training = list(y)\r\n",
        "for i in arange(n_df-len(hasil_training)):\r\n",
        "  hasil_training.append(np.nan)\r\n",
        "\r\n",
        "df[\"Hasil Training\"] = hasil_training\r\n",
        "df"
      ],
      "execution_count": 9,
      "outputs": [
        {
          "output_type": "execute_result",
          "data": {
            "text/html": [
              "<div>\n",
              "<style scoped>\n",
              "    .dataframe tbody tr th:only-of-type {\n",
              "        vertical-align: middle;\n",
              "    }\n",
              "\n",
              "    .dataframe tbody tr th {\n",
              "        vertical-align: top;\n",
              "    }\n",
              "\n",
              "    .dataframe thead th {\n",
              "        text-align: right;\n",
              "    }\n",
              "</style>\n",
              "<table border=\"1\" class=\"dataframe\">\n",
              "  <thead>\n",
              "    <tr style=\"text-align: right;\">\n",
              "      <th></th>\n",
              "      <th>High</th>\n",
              "      <th>Low</th>\n",
              "      <th>Open</th>\n",
              "      <th>Close</th>\n",
              "      <th>Volume</th>\n",
              "      <th>Adj Close</th>\n",
              "      <th>Hasil Training</th>\n",
              "    </tr>\n",
              "    <tr>\n",
              "      <th>Date</th>\n",
              "      <th></th>\n",
              "      <th></th>\n",
              "      <th></th>\n",
              "      <th></th>\n",
              "      <th></th>\n",
              "      <th></th>\n",
              "      <th></th>\n",
              "    </tr>\n",
              "  </thead>\n",
              "  <tbody>\n",
              "    <tr>\n",
              "      <th>2016-02-17</th>\n",
              "      <td>330.0</td>\n",
              "      <td>314.0</td>\n",
              "      <td>316.0</td>\n",
              "      <td>321.0</td>\n",
              "      <td>8334700.0</td>\n",
              "      <td>321.0</td>\n",
              "      <td>[533.166323025513]</td>\n",
              "    </tr>\n",
              "    <tr>\n",
              "      <th>2016-02-18</th>\n",
              "      <td>325.0</td>\n",
              "      <td>310.0</td>\n",
              "      <td>325.0</td>\n",
              "      <td>318.0</td>\n",
              "      <td>3805600.0</td>\n",
              "      <td>318.0</td>\n",
              "      <td>[532.6954231465725]</td>\n",
              "    </tr>\n",
              "    <tr>\n",
              "      <th>2016-02-19</th>\n",
              "      <td>320.0</td>\n",
              "      <td>312.0</td>\n",
              "      <td>314.0</td>\n",
              "      <td>318.0</td>\n",
              "      <td>878300.0</td>\n",
              "      <td>318.0</td>\n",
              "      <td>[532.9364885556123]</td>\n",
              "    </tr>\n",
              "    <tr>\n",
              "      <th>2016-02-22</th>\n",
              "      <td>319.0</td>\n",
              "      <td>308.0</td>\n",
              "      <td>318.0</td>\n",
              "      <td>313.0</td>\n",
              "      <td>1346500.0</td>\n",
              "      <td>313.0</td>\n",
              "      <td>[531.5159171390305]</td>\n",
              "    </tr>\n",
              "    <tr>\n",
              "      <th>2016-02-23</th>\n",
              "      <td>317.0</td>\n",
              "      <td>299.0</td>\n",
              "      <td>313.0</td>\n",
              "      <td>303.0</td>\n",
              "      <td>1584800.0</td>\n",
              "      <td>303.0</td>\n",
              "      <td>[528.7741984402927]</td>\n",
              "    </tr>\n",
              "    <tr>\n",
              "      <th>...</th>\n",
              "      <td>...</td>\n",
              "      <td>...</td>\n",
              "      <td>...</td>\n",
              "      <td>...</td>\n",
              "      <td>...</td>\n",
              "      <td>...</td>\n",
              "      <td>...</td>\n",
              "    </tr>\n",
              "    <tr>\n",
              "      <th>2021-02-16</th>\n",
              "      <td>3680.0</td>\n",
              "      <td>3290.0</td>\n",
              "      <td>3320.0</td>\n",
              "      <td>3680.0</td>\n",
              "      <td>15644600.0</td>\n",
              "      <td>3680.0</td>\n",
              "      <td>NaN</td>\n",
              "    </tr>\n",
              "    <tr>\n",
              "      <th>2021-02-17</th>\n",
              "      <td>3770.0</td>\n",
              "      <td>3500.0</td>\n",
              "      <td>3710.0</td>\n",
              "      <td>3540.0</td>\n",
              "      <td>10291200.0</td>\n",
              "      <td>3540.0</td>\n",
              "      <td>NaN</td>\n",
              "    </tr>\n",
              "    <tr>\n",
              "      <th>2021-02-18</th>\n",
              "      <td>3650.0</td>\n",
              "      <td>3400.0</td>\n",
              "      <td>3540.0</td>\n",
              "      <td>3400.0</td>\n",
              "      <td>2375700.0</td>\n",
              "      <td>3400.0</td>\n",
              "      <td>NaN</td>\n",
              "    </tr>\n",
              "    <tr>\n",
              "      <th>2021-02-19</th>\n",
              "      <td>3520.0</td>\n",
              "      <td>3340.0</td>\n",
              "      <td>3350.0</td>\n",
              "      <td>3420.0</td>\n",
              "      <td>1570000.0</td>\n",
              "      <td>3420.0</td>\n",
              "      <td>NaN</td>\n",
              "    </tr>\n",
              "    <tr>\n",
              "      <th>2021-02-22</th>\n",
              "      <td>3510.0</td>\n",
              "      <td>3420.0</td>\n",
              "      <td>3450.0</td>\n",
              "      <td>3420.0</td>\n",
              "      <td>1470200.0</td>\n",
              "      <td>3420.0</td>\n",
              "      <td>NaN</td>\n",
              "    </tr>\n",
              "  </tbody>\n",
              "</table>\n",
              "<p>1264 rows × 7 columns</p>\n",
              "</div>"
            ],
            "text/plain": [
              "              High     Low    Open  ...      Volume  Adj Close       Hasil Training\n",
              "Date                                ...                                            \n",
              "2016-02-17   330.0   314.0   316.0  ...   8334700.0      321.0   [533.166323025513]\n",
              "2016-02-18   325.0   310.0   325.0  ...   3805600.0      318.0  [532.6954231465725]\n",
              "2016-02-19   320.0   312.0   314.0  ...    878300.0      318.0  [532.9364885556123]\n",
              "2016-02-22   319.0   308.0   318.0  ...   1346500.0      313.0  [531.5159171390305]\n",
              "2016-02-23   317.0   299.0   313.0  ...   1584800.0      303.0  [528.7741984402927]\n",
              "...            ...     ...     ...  ...         ...        ...                  ...\n",
              "2021-02-16  3680.0  3290.0  3320.0  ...  15644600.0     3680.0                  NaN\n",
              "2021-02-17  3770.0  3500.0  3710.0  ...  10291200.0     3540.0                  NaN\n",
              "2021-02-18  3650.0  3400.0  3540.0  ...   2375700.0     3400.0                  NaN\n",
              "2021-02-19  3520.0  3340.0  3350.0  ...   1570000.0     3420.0                  NaN\n",
              "2021-02-22  3510.0  3420.0  3450.0  ...   1470200.0     3420.0                  NaN\n",
              "\n",
              "[1264 rows x 7 columns]"
            ]
          },
          "metadata": {
            "tags": []
          },
          "execution_count": 9
        }
      ]
    },
    {
      "cell_type": "code",
      "metadata": {
        "colab": {
          "base_uri": "https://localhost:8080/",
          "height": 350
        },
        "id": "5C_ABkhferYn",
        "outputId": "111970ab-52ef-4e08-f6b3-6d602577e900"
      },
      "source": [
        "plt.figure(figsize=(10,5))\r\n",
        "plt.plot(df[\"Adj Close\"], label = \"Actual Data\")\r\n",
        "plt.plot(df[\"Hasil Training\"], label = \"Hasil Training\")\r\n",
        "plt.xlabel(\"Tahun\")\r\n",
        "plt.ylabel(\"Harga Saham\")\r\n",
        "plt.title(\"Prediksi Harga Saham INAF\")\r\n",
        "plt.legend()\r\n",
        "plt.show()"
      ],
      "execution_count": 10,
      "outputs": [
        {
          "output_type": "display_data",
          "data": {
            "image/png": "[encoded data removed]",
            "text/plain": [
              "<Figure size 720x360 with 1 Axes>"
            ]
          },
          "metadata": {
            "tags": [],
            "needs_background": "light"
          }
        }
      ]
    },
    {
      "cell_type": "code",
      "metadata": {
        "colab": {
          "base_uri": "https://localhost:8080/"
        },
        "id": "TZ4k2Y6A6WJ9",
        "outputId": "b1aea65f-fd51-48ae-906d-23c03328cd8b"
      },
      "source": [
        "#Melakukan test\r\n",
        "input  = vstack(([x_test_1],[x_test_2]))\r\n",
        "output = [y_test] \r\n",
        "percobaan.forward(np.array(input).T, np.array(output).T)\r\n",
        "\r\n",
        "y = percobaan.y_hat\r\n",
        "print(\"MSE Uji=\",percobaan.MSE)\r\n",
        "y = y*(max(df[feature[0]])-min(df[feature[0]]))+min(df[feature[0]])"
      ],
      "execution_count": 11,
      "outputs": [
        {
          "output_type": "stream",
          "text": [
            "MSE Uji= [[ 0.0007]]\n"
          ],
          "name": "stdout"
        }
      ]
    },
    {
      "cell_type": "code",
      "metadata": {
        "colab": {
          "base_uri": "https://localhost:8080/",
          "height": 431
        },
        "id": "0Xm2s7Z2-tq9",
        "outputId": "6258bd0d-353f-4fab-dc46-d0f738f36558"
      },
      "source": [
        "hasil_test = []\r\n",
        "for i in arange(n_df-len(y)):\r\n",
        "  hasil_test.append(np.nan)\r\n",
        "\r\n",
        "hasil_test.extend(list(y.T[0]))\r\n",
        "\r\n",
        "df[\"Hasil Test\"] = hasil_test\r\n",
        "df"
      ],
      "execution_count": 12,
      "outputs": [
        {
          "output_type": "execute_result",
          "data": {
            "text/html": [
              "<div>\n",
              "<style scoped>\n",
              "    .dataframe tbody tr th:only-of-type {\n",
              "        vertical-align: middle;\n",
              "    }\n",
              "\n",
              "    .dataframe tbody tr th {\n",
              "        vertical-align: top;\n",
              "    }\n",
              "\n",
              "    .dataframe thead th {\n",
              "        text-align: right;\n",
              "    }\n",
              "</style>\n",
              "<table border=\"1\" class=\"dataframe\">\n",
              "  <thead>\n",
              "    <tr style=\"text-align: right;\">\n",
              "      <th></th>\n",
              "      <th>High</th>\n",
              "      <th>Low</th>\n",
              "      <th>Open</th>\n",
              "      <th>Close</th>\n",
              "      <th>Volume</th>\n",
              "      <th>Adj Close</th>\n",
              "      <th>Hasil Training</th>\n",
              "      <th>Hasil Test</th>\n",
              "    </tr>\n",
              "    <tr>\n",
              "      <th>Date</th>\n",
              "      <th></th>\n",
              "      <th></th>\n",
              "      <th></th>\n",
              "      <th></th>\n",
              "      <th></th>\n",
              "      <th></th>\n",
              "      <th></th>\n",
              "      <th></th>\n",
              "    </tr>\n",
              "  </thead>\n",
              "  <tbody>\n",
              "    <tr>\n",
              "      <th>2016-02-17</th>\n",
              "      <td>330.0</td>\n",
              "      <td>314.0</td>\n",
              "      <td>316.0</td>\n",
              "      <td>321.0</td>\n",
              "      <td>8334700.0</td>\n",
              "      <td>321.0</td>\n",
              "      <td>[533.166323025513]</td>\n",
              "      <td>NaN</td>\n",
              "    </tr>\n",
              "    <tr>\n",
              "      <th>2016-02-18</th>\n",
              "      <td>325.0</td>\n",
              "      <td>310.0</td>\n",
              "      <td>325.0</td>\n",
              "      <td>318.0</td>\n",
              "      <td>3805600.0</td>\n",
              "      <td>318.0</td>\n",
              "      <td>[532.6954231465725]</td>\n",
              "      <td>NaN</td>\n",
              "    </tr>\n",
              "    <tr>\n",
              "      <th>2016-02-19</th>\n",
              "      <td>320.0</td>\n",
              "      <td>312.0</td>\n",
              "      <td>314.0</td>\n",
              "      <td>318.0</td>\n",
              "      <td>878300.0</td>\n",
              "      <td>318.0</td>\n",
              "      <td>[532.9364885556123]</td>\n",
              "      <td>NaN</td>\n",
              "    </tr>\n",
              "    <tr>\n",
              "      <th>2016-02-22</th>\n",
              "      <td>319.0</td>\n",
              "      <td>308.0</td>\n",
              "      <td>318.0</td>\n",
              "      <td>313.0</td>\n",
              "      <td>1346500.0</td>\n",
              "      <td>313.0</td>\n",
              "      <td>[531.5159171390305]</td>\n",
              "      <td>NaN</td>\n",
              "    </tr>\n",
              "    <tr>\n",
              "      <th>2016-02-23</th>\n",
              "      <td>317.0</td>\n",
              "      <td>299.0</td>\n",
              "      <td>313.0</td>\n",
              "      <td>303.0</td>\n",
              "      <td>1584800.0</td>\n",
              "      <td>303.0</td>\n",
              "      <td>[528.7741984402927]</td>\n",
              "      <td>NaN</td>\n",
              "    </tr>\n",
              "    <tr>\n",
              "      <th>...</th>\n",
              "      <td>...</td>\n",
              "      <td>...</td>\n",
              "      <td>...</td>\n",
              "      <td>...</td>\n",
              "      <td>...</td>\n",
              "      <td>...</td>\n",
              "      <td>...</td>\n",
              "      <td>...</td>\n",
              "    </tr>\n",
              "    <tr>\n",
              "      <th>2021-02-16</th>\n",
              "      <td>3680.0</td>\n",
              "      <td>3290.0</td>\n",
              "      <td>3320.0</td>\n",
              "      <td>3680.0</td>\n",
              "      <td>15644600.0</td>\n",
              "      <td>3680.0</td>\n",
              "      <td>NaN</td>\n",
              "      <td>3388.900077</td>\n",
              "    </tr>\n",
              "    <tr>\n",
              "      <th>2021-02-17</th>\n",
              "      <td>3770.0</td>\n",
              "      <td>3500.0</td>\n",
              "      <td>3710.0</td>\n",
              "      <td>3540.0</td>\n",
              "      <td>10291200.0</td>\n",
              "      <td>3540.0</td>\n",
              "      <td>NaN</td>\n",
              "      <td>3501.929711</td>\n",
              "    </tr>\n",
              "    <tr>\n",
              "      <th>2021-02-18</th>\n",
              "      <td>3650.0</td>\n",
              "      <td>3400.0</td>\n",
              "      <td>3540.0</td>\n",
              "      <td>3400.0</td>\n",
              "      <td>2375700.0</td>\n",
              "      <td>3400.0</td>\n",
              "      <td>NaN</td>\n",
              "      <td>3477.551187</td>\n",
              "    </tr>\n",
              "    <tr>\n",
              "      <th>2021-02-19</th>\n",
              "      <td>3520.0</td>\n",
              "      <td>3340.0</td>\n",
              "      <td>3350.0</td>\n",
              "      <td>3420.0</td>\n",
              "      <td>1570000.0</td>\n",
              "      <td>3420.0</td>\n",
              "      <td>NaN</td>\n",
              "      <td>3751.826762</td>\n",
              "    </tr>\n",
              "    <tr>\n",
              "      <th>2021-02-22</th>\n",
              "      <td>3510.0</td>\n",
              "      <td>3420.0</td>\n",
              "      <td>3450.0</td>\n",
              "      <td>3420.0</td>\n",
              "      <td>1470200.0</td>\n",
              "      <td>3420.0</td>\n",
              "      <td>NaN</td>\n",
              "      <td>3652.767031</td>\n",
              "    </tr>\n",
              "  </tbody>\n",
              "</table>\n",
              "<p>1264 rows × 8 columns</p>\n",
              "</div>"
            ],
            "text/plain": [
              "              High     Low    Open  ...  Adj Close       Hasil Training   Hasil Test\n",
              "Date                                ...                                             \n",
              "2016-02-17   330.0   314.0   316.0  ...      321.0   [533.166323025513]          NaN\n",
              "2016-02-18   325.0   310.0   325.0  ...      318.0  [532.6954231465725]          NaN\n",
              "2016-02-19   320.0   312.0   314.0  ...      318.0  [532.9364885556123]          NaN\n",
              "2016-02-22   319.0   308.0   318.0  ...      313.0  [531.5159171390305]          NaN\n",
              "2016-02-23   317.0   299.0   313.0  ...      303.0  [528.7741984402927]          NaN\n",
              "...            ...     ...     ...  ...        ...                  ...          ...\n",
              "2021-02-16  3680.0  3290.0  3320.0  ...     3680.0                  NaN  3388.900077\n",
              "2021-02-17  3770.0  3500.0  3710.0  ...     3540.0                  NaN  3501.929711\n",
              "2021-02-18  3650.0  3400.0  3540.0  ...     3400.0                  NaN  3477.551187\n",
              "2021-02-19  3520.0  3340.0  3350.0  ...     3420.0                  NaN  3751.826762\n",
              "2021-02-22  3510.0  3420.0  3450.0  ...     3420.0                  NaN  3652.767031\n",
              "\n",
              "[1264 rows x 8 columns]"
            ]
          },
          "metadata": {
            "tags": []
          },
          "execution_count": 12
        }
      ]
    },
    {
      "cell_type": "code",
      "metadata": {
        "colab": {
          "base_uri": "https://localhost:8080/",
          "height": 350
        },
        "id": "WWK6HQ8w9uKe",
        "outputId": "a8316c85-aae6-4a9b-97d6-9959516be2ee"
      },
      "source": [
        "plt.figure(figsize=(10,5))\r\n",
        "plt.plot(df[\"Adj Close\"], label = \"Actual Data\")\r\n",
        "plt.plot(df[\"Hasil Training\"], label = \"Hasil Training\")\r\n",
        "plt.plot(df[\"Hasil Test\"], label = \"Hasil Test\")\r\n",
        "plt.xlabel(\"Tahun\")\r\n",
        "plt.ylabel(\"Harga Saham\")\r\n",
        "plt.title(\"Prediksi Harga Saham INAF\")\r\n",
        "plt.legend()\r\n",
        "plt.show()"
      ],
      "execution_count": 13,
      "outputs": [
        {
          "output_type": "display_data",
          "data": {
            "image/png": "[encoded data removed]",
            "text/plain": [
              "<Figure size 720x360 with 1 Axes>"
            ]
          },
          "metadata": {
            "tags": [],
            "needs_background": "light"
          }
        }
      ]
    }
  ]
}