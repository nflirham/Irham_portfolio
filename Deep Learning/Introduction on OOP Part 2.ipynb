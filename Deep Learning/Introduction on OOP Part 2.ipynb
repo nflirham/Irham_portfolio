{
  "nbformat": 4,
  "nbformat_minor": 0,
  "metadata": {
    "colab": {
      "name": "P1_10818019_Tugas 2",
      "provenance": [],
      "collapsed_sections": []
    },
    "kernelspec": {
      "name": "python3",
      "display_name": "Python 3"
    }
  },
  "cells": [
    {
      "cell_type": "markdown",
      "metadata": {
        "id": "S3u178aRAd0y"
      },
      "source": [
        "## **Tugas 2 Praktikum 1**\r\n",
        "### Nama : Muhammad Naufal Irham Ramdhani\r\n",
        "### NIM  : 108181019"
      ]
    },
    {
      "cell_type": "code",
      "metadata": {
        "id": "rxtZ_7FPp9W9"
      },
      "source": [
        "import numpy as np"
      ],
      "execution_count": 7,
      "outputs": []
    },
    {
      "cell_type": "code",
      "metadata": {
        "id": "_HLQDFe6gojA"
      },
      "source": [
        "class FungsiKuadrat(object):\r\n",
        "  def __init__(self,a,b,c):\r\n",
        "    self.a = float(a)\r\n",
        "    self.b = float(b)\r\n",
        "    self.c = float(c)\r\n",
        "  def titik_stasioner(self):\r\n",
        "    return -self.b/(2*self.a), -self.determinan()/(4*self.a)\r\n",
        "  def determinan(self):\r\n",
        "    return self.b**2-4*self.a*self.c\r\n",
        "  def akar(self):\r\n",
        "    if self.determinan() == 0:\r\n",
        "      return -self.b/(2*self.a)\r\n",
        "    elif self.determinan() > 0:\r\n",
        "      return (-self.b+np.sqrt(self.determinan()))/(2*self.a),(-self.b-np.sqrt(self.determinan()))/(2*self.a)\r\n",
        "    else:\r\n",
        "      return \"Fungsi tidak memiliki akar\"\r\n",
        "  def tp_sumbu(self):\r\n",
        "    if self.determinan() < 0:\r\n",
        "      return (0,self.c)\r\n",
        "    elif self.determinan() == 0:\r\n",
        "      return (self.akar(),0),(0,self.c)\r\n",
        "    else:\r\n",
        "      a,b = ((i,0) for i in self.akar())\r\n",
        "      return a,b,(0,self.c)\r\n",
        "  def turunan(self,c):\r\n",
        "    y = lambda x: self.a*2*x+self.b\r\n",
        "    return y(c)\r\n",
        "  def arah_kecekungan(self,c): #di fungsi kuadrat tidak ada titik belok\r\n",
        "    y = lambda x: self.a*2\r\n",
        "    if y(c) > 0:\r\n",
        "      return \"Fungsi cekung ke atas\"\r\n",
        "    elif y(c) < 0: \r\n",
        "      return \"Fungsi cekung ke bawah\"\r\n",
        "\r\n"
      ],
      "execution_count": 8,
      "outputs": []
    },
    {
      "cell_type": "code",
      "metadata": {
        "colab": {
          "base_uri": "https://localhost:8080/"
        },
        "id": "m_i0JA-MiiL7",
        "outputId": "00cf8348-71dc-43ec-e1d9-145f108001b0"
      },
      "source": [
        "print(\"Masukkan konstanta fungsi kuadrat dengan format y = ax^2+bx+c\")\r\n",
        "a = input(\"Konstanta a= \")\r\n",
        "b = input(\"Konstanta b= \")\r\n",
        "c = input(\"Konstanta c= \")\r\n",
        "print(\"Turunan fungsi kuadrat = \", a,'x^2+',b,'x+',c)\r\n",
        "fx = FungsiKuadrat(a,b,c)\r\n",
        "print(\"titik stasioner: \", fx.titik_stasioner())\r\n",
        "print(\"Akar x = \", fx.akar())\r\n",
        "print(\"Titik potong ada di: \",fx.tp_sumbu())\r\n",
        "x = int(input(\"Evaluasi turunan di titik x = \"))\r\n",
        "print(\"Turunan fungsi kuadrat = \", a,'x+',b)\r\n",
        "print(\"Turunan fungsi kuadrat di x=\", x, \"adalah y'=\", fx.turunan(x))\r\n",
        "print(\"Arah kecekungan di x=\", x, \"adalah\", fx.arah_kecekungan(x))"
      ],
      "execution_count": 9,
      "outputs": [
        {
          "output_type": "stream",
          "text": [
            "Masukkan konstanta fungsi kuadrat dengan format y = ax^2+bx+c\n",
            "Konstanta a= 2\n",
            "Konstanta b= 1\n",
            "Konstanta c= 3\n",
            "Turunan fungsi kuadrat =  2 x^2+ 1 x+ 3\n",
            "titik stasioner:  (-0.25, 2.875)\n",
            "Akar x =  Fungsi tidak memiliki akar\n",
            "Titik potong ada di:  (0, 3.0)\n",
            "Evaluasi turunan di titik x = 2\n",
            "Turunan fungsi kuadrat =  2 x+ 1\n",
            "Turunan fungsi kuadrat di x= 2 adalah y'= 9.0\n",
            "Arah kecekungan di x= 2 adalah Fungsi cekung ke atas\n"
          ],
          "name": "stdout"
        }
      ]
    }
  ]
}
