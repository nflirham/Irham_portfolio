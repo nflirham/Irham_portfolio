{
  "nbformat": 4,
  "nbformat_minor": 0,
  "metadata": {
    "colab": {
      "name": "P1_10818019_Tugas 1",
      "provenance": [],
      "collapsed_sections": []
    },
    "kernelspec": {
      "name": "python3",
      "display_name": "Python 3"
    }
  },
  "cells": [
    {
      "cell_type": "markdown",
      "metadata": {
        "id": "IJPfhyBZj-HW"
      },
      "source": [
        "## **Tugas 1 Praktikum 1**\r\n",
        "### Nama : Muhammad Naufal Irham Ramdhani\r\n",
        "### NIM  : 108181019"
      ]
    },
    {
      "cell_type": "code",
      "metadata": {
        "id": "rxtZ_7FPp9W9"
      },
      "source": [
        "import numpy as np\r\n",
        "import matplotlib.pyplot as plt\r\n",
        "%matplotlib inline  "
      ],
      "execution_count": 176,
      "outputs": []
    },
    {
      "cell_type": "code",
      "metadata": {
        "id": "-Vn9LUIsYYtE"
      },
      "source": [
        "class elips(object):\r\n",
        "  def definisi(self,x):\r\n",
        "    if x == 'r':\r\n",
        "      print(\"Ini lingkaran\")\r\n",
        "    elif x == 'o':\r\n",
        "      print(\"Ini oval\")\r\n",
        "class lingkaran(elips):\r\n",
        "  def __init__(self,r):\r\n",
        "    self.r = r\r\n",
        "    self.d = 2*r\r\n",
        "    super().definisi('r') #Sengaja biar kepake class elipsnya \r\n",
        "  def keliling(self):\r\n",
        "    return 2*np.pi*self.r\r\n",
        "  def luas(self):\r\n",
        "    return np.pi*self.r**2\r\n",
        "  def gambar(self, warna):\r\n",
        "    plt.gca().add_patch(plt.Circle((0, 0), radius=self.r, color=warna))\r\n",
        "    plt.axis('scaled')\r\n",
        "    plt.title(\"Gambar lingkaran dengan jari-jari \"+ str(self.r), backgroundcolor = \"c\")\r\n",
        "    plt.show() \r\n"
      ],
      "execution_count": 177,
      "outputs": []
    },
    {
      "cell_type": "code",
      "metadata": {
        "id": "Nyzk764BMpqx",
        "colab": {
          "base_uri": "https://localhost:8080/",
          "height": 386
        },
        "outputId": "68be1709-d34c-49c6-d1f0-a7eff99e6fb7"
      },
      "source": [
        "r = input(\"Masukkan panjang jari-jari lingkaran: \")\r\n",
        "l = lingkaran(int(r))\r\n",
        "print(\"Jari-jari lingkaran\", l.r)\r\n",
        "print(\"Diameter lingkaran\", l.d)\r\n",
        "print(\"Luas lingkaran\", l.luas())\r\n",
        "print(\"Keliling Lingkaran\",l.keliling())\r\n",
        "l.gambar(\"r\")"
      ],
      "execution_count": 178,
      "outputs": [
        {
          "output_type": "stream",
          "text": [
            "Masukkan panjang jari-jari lingkaran: 3\n",
            "Ini lingkaran\n",
            "Jari-jari lingkaran 3\n",
            "Diameter lingkaran 6\n",
            "Luas lingkaran 28.274333882308138\n",
            "Keliling Lingkaran 18.84955592153876\n"
          ],
          "name": "stdout"
        },
        {
          "output_type": "display_data",
          "data": {
            "image/png": "[encoded data removed]",
            "text/plain": [
              "<Figure size 432x288 with 1 Axes>"
            ]
          },
          "metadata": {
            "tags": [],
            "needs_background": "light"
          }
        }
      ]
    }
  ]
}