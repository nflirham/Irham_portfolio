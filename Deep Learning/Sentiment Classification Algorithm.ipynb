{
  "nbformat": 4,
  "nbformat_minor": 0,
  "metadata": {
    "colab": {
      "name": "P4_10818019.ipynb",
      "provenance": [],
      "collapsed_sections": []
    },
    "kernelspec": {
      "name": "python3",
      "display_name": "Python 3"
    },
    "language_info": {
      "name": "python"
    }
  },
  "cells": [
    {
      "cell_type": "markdown",
      "metadata": {
        "id": "wdkOapdvRrtx"
      },
      "source": [
        "# Tugas Prkatikum 4 DL 2021\n",
        "---\n",
        "M. Naufal Irham R (10818019)"
      ]
    },
    {
      "cell_type": "markdown",
      "metadata": {
        "id": "k3I76_-MRjV2"
      },
      "source": [
        "## Import library dan upload data ke google colab"
      ]
    },
    {
      "cell_type": "code",
      "metadata": {
        "id": "eJqyZq-3bHOV"
      },
      "source": [
        "import numpy as np\n",
        "import pandas as pd\n",
        "np.set_printoptions(precision = 3, suppress = True, formatter = {'float':'{:6.5f}'.format})"
      ],
      "execution_count": 33,
      "outputs": []
    },
    {
      "cell_type": "markdown",
      "metadata": {
        "id": "vQYt40xbSBi_"
      },
      "source": [
        "Import manual datanya.\n",
        "\n",
        "Data yang digunakan adalah komentar 2 produk di Tokopedia yaitu produk fashion dan produk teknologi.\n",
        "Kenapa saya justru mengolah data komentar suatu barang? Karena pada komentar tersebut banyak sekali kata slang, ada juga yang pakai kata baku, dan banyak juga kata-kata yang typo. Jadi tipe kalimat yang diolah disini lebih beragam\n",
        "\n",
        "Pemilihan komentar dari 2 produk berbeda pun dilakukan sengaja agar algoritmanya tidak hanya terbatas untuk satu topik saja\n",
        "\n",
        "sumber data dari:\n",
        "- https://www.tokopedia.com/copperindonesia/iphone-7-plus-8-plus-copper-tempered-glass-full-glue-premium-glossy-putih?whid=0\n",
        "- https://www.tokopedia.com/kaospolos47/kaos-polos-cotton-combed-30s-premium-pria-wanita-harga-grosir-s-m-l-xl-putih-s"
      ]
    },
    {
      "cell_type": "code",
      "metadata": {
        "colab": {
          "resources": {
            "http://localhost:8080/nbextensions/google.colab/files.js": {
              "data": "Ly8gQ29weXJpZ2h0IDIwMTcgR29vZ2xlIExMQwovLwovLyBMaWNlbnNlZCB1bmRlciB0aGUgQXBhY2hlIExpY2Vuc2UsIFZlcnNpb24gMi4wICh0aGUgIkxpY2Vuc2UiKTsKLy8geW91IG1heSBub3QgdXNlIHRoaXMgZmlsZSBleGNlcHQgaW4gY29tcGxpYW5jZSB3aXRoIHRoZSBMaWNlbnNlLgovLyBZb3UgbWF5IG9idGFpbiBhIGNvcHkgb2YgdGhlIExpY2Vuc2UgYXQKLy8KLy8gICAgICBodHRwOi8vd3d3LmFwYWNoZS5vcmcvbGljZW5zZXMvTElDRU5TRS0yLjAKLy8KLy8gVW5sZXNzIHJlcXVpcmVkIGJ5IGFwcGxpY2FibGUgbGF3IG9yIGFncmVlZCB0byBpbiB3cml0aW5nLCBzb2Z0d2FyZQovLyBkaXN0cmlidXRlZCB1bmRlciB0aGUgTGljZW5zZSBpcyBkaXN0cmlidXRlZCBvbiBhbiAiQVMgSVMiIEJBU0lTLAovLyBXSVRIT1VUIFdBUlJBTlRJRVMgT1IgQ09ORElUSU9OUyBPRiBBTlkgS0lORCwgZWl0aGVyIGV4cHJlc3Mgb3IgaW1wbGllZC4KLy8gU2VlIHRoZSBMaWNlbnNlIGZvciB0aGUgc3BlY2lmaWMgbGFuZ3VhZ2UgZ292ZXJuaW5nIHBlcm1pc3Npb25zIGFuZAovLyBsaW1pdGF0aW9ucyB1bmRlciB0aGUgTGljZW5zZS4KCi8qKgogKiBAZmlsZW92ZXJ2aWV3IEhlbHBlcnMgZm9yIGdvb2dsZS5jb2xhYiBQeXRob24gbW9kdWxlLgogKi8KKGZ1bmN0aW9uKHNjb3BlKSB7CmZ1bmN0aW9uIHNwYW4odGV4dCwgc3R5bGVBdHRyaWJ1dGVzID0ge30pIHsKICBjb25zdCBlbGVtZW50ID0gZG9jdW1lbnQuY3JlYXRlRWxlbWVudCgnc3BhbicpOwogIGVsZW1lbnQudGV4dENvbnRlbnQgPSB0ZXh0OwogIGZvciAoY29uc3Qga2V5IG9mIE9iamVjdC5rZXlzKHN0eWxlQXR0cmlidXRlcykpIHsKICAgIGVsZW1lbnQuc3R5bGVba2V5XSA9IHN0eWxlQXR0cmlidXRlc1trZXldOwogIH0KICByZXR1cm4gZWxlbWVudDsKfQoKLy8gTWF4IG51bWJlciBvZiBieXRlcyB3aGljaCB3aWxsIGJlIHVwbG9hZGVkIGF0IGEgdGltZS4KY29uc3QgTUFYX1BBWUxPQURfU0laRSA9IDEwMCAqIDEwMjQ7CgpmdW5jdGlvbiBfdXBsb2FkRmlsZXMoaW5wdXRJZCwgb3V0cHV0SWQpIHsKICBjb25zdCBzdGVwcyA9IHVwbG9hZEZpbGVzU3RlcChpbnB1dElkLCBvdXRwdXRJZCk7CiAgY29uc3Qgb3V0cHV0RWxlbWVudCA9IGRvY3VtZW50LmdldEVsZW1lbnRCeUlkKG91dHB1dElkKTsKICAvLyBDYWNoZSBzdGVwcyBvbiB0aGUgb3V0cHV0RWxlbWVudCB0byBtYWtlIGl0IGF2YWlsYWJsZSBmb3IgdGhlIG5leHQgY2FsbAogIC8vIHRvIHVwbG9hZEZpbGVzQ29udGludWUgZnJvbSBQeXRob24uCiAgb3V0cHV0RWxlbWVudC5zdGVwcyA9IHN0ZXBzOwoKICByZXR1cm4gX3VwbG9hZEZpbGVzQ29udGludWUob3V0cHV0SWQpOwp9CgovLyBUaGlzIGlzIHJvdWdobHkgYW4gYXN5bmMgZ2VuZXJhdG9yIChub3Qgc3VwcG9ydGVkIGluIHRoZSBicm93c2VyIHlldCksCi8vIHdoZXJlIHRoZXJlIGFyZSBtdWx0aXBsZSBhc3luY2hyb25vdXMgc3RlcHMgYW5kIHRoZSBQeXRob24gc2lkZSBpcyBnb2luZwovLyB0byBwb2xsIGZvciBjb21wbGV0aW9uIG9mIGVhY2ggc3RlcC4KLy8gVGhpcyB1c2VzIGEgUHJvbWlzZSB0byBibG9jayB0aGUgcHl0aG9uIHNpZGUgb24gY29tcGxldGlvbiBvZiBlYWNoIHN0ZXAsCi8vIHRoZW4gcGFzc2VzIHRoZSByZXN1bHQgb2YgdGhlIHByZXZpb3VzIHN0ZXAgYXMgdGhlIGlucHV0IHRvIHRoZSBuZXh0IHN0ZXAuCmZ1bmN0aW9uIF91cGxvYWRGaWxlc0NvbnRpbnVlKG91dHB1dElkKSB7CiAgY29uc3Qgb3V0cHV0RWxlbWVudCA9IGRvY3VtZW50LmdldEVsZW1lbnRCeUlkKG91dHB1dElkKTsKICBjb25zdCBzdGVwcyA9IG91dHB1dEVsZW1lbnQuc3RlcHM7CgogIGNvbnN0IG5leHQgPSBzdGVwcy5uZXh0KG91dHB1dEVsZW1lbnQubGFzdFByb21pc2VWYWx1ZSk7CiAgcmV0dXJuIFByb21pc2UucmVzb2x2ZShuZXh0LnZhbHVlLnByb21pc2UpLnRoZW4oKHZhbHVlKSA9PiB7CiAgICAvLyBDYWNoZSB0aGUgbGFzdCBwcm9taXNlIHZhbHVlIHRvIG1ha2UgaXQgYXZhaWxhYmxlIHRvIHRoZSBuZXh0CiAgICAvLyBzdGVwIG9mIHRoZSBnZW5lcmF0b3IuCiAgICBvdXRwdXRFbGVtZW50Lmxhc3RQcm9taXNlVmFsdWUgPSB2YWx1ZTsKICAgIHJldHVybiBuZXh0LnZhbHVlLnJlc3BvbnNlOwogIH0pOwp9CgovKioKICogR2VuZXJhdG9yIGZ1bmN0aW9uIHdoaWNoIGlzIGNhbGxlZCBiZXR3ZWVuIGVhY2ggYXN5bmMgc3RlcCBvZiB0aGUgdXBsb2FkCiAqIHByb2Nlc3MuCiAqIEBwYXJhbSB7c3RyaW5nfSBpbnB1dElkIEVsZW1lbnQgSUQgb2YgdGhlIGlucHV0IGZpbGUgcGlja2VyIGVsZW1lbnQuCiAqIEBwYXJhbSB7c3RyaW5nfSBvdXRwdXRJZCBFbGVtZW50IElEIG9mIHRoZSBvdXRwdXQgZGlzcGxheS4KICogQHJldHVybiB7IUl0ZXJhYmxlPCFPYmplY3Q+fSBJdGVyYWJsZSBvZiBuZXh0IHN0ZXBzLgogKi8KZnVuY3Rpb24qIHVwbG9hZEZpbGVzU3RlcChpbnB1dElkLCBvdXRwdXRJZCkgewogIGNvbnN0IGlucHV0RWxlbWVudCA9IGRvY3VtZW50LmdldEVsZW1lbnRCeUlkKGlucHV0SWQpOwogIGlucHV0RWxlbWVudC5kaXNhYmxlZCA9IGZhbHNlOwoKICBjb25zdCBvdXRwdXRFbGVtZW50ID0gZG9jdW1lbnQuZ2V0RWxlbWVudEJ5SWQob3V0cHV0SWQpOwogIG91dHB1dEVsZW1lbnQuaW5uZXJIVE1MID0gJyc7CgogIGNvbnN0IHBpY2tlZFByb21pc2UgPSBuZXcgUHJvbWlzZSgocmVzb2x2ZSkgPT4gewogICAgaW5wdXRFbGVtZW50LmFkZEV2ZW50TGlzdGVuZXIoJ2NoYW5nZScsIChlKSA9PiB7CiAgICAgIHJlc29sdmUoZS50YXJnZXQuZmlsZXMpOwogICAgfSk7CiAgfSk7CgogIGNvbnN0IGNhbmNlbCA9IGRvY3VtZW50LmNyZWF0ZUVsZW1lbnQoJ2J1dHRvbicpOwogIGlucHV0RWxlbWVudC5wYXJlbnRFbGVtZW50LmFwcGVuZENoaWxkKGNhbmNlbCk7CiAgY2FuY2VsLnRleHRDb250ZW50ID0gJ0NhbmNlbCB1cGxvYWQnOwogIGNvbnN0IGNhbmNlbFByb21pc2UgPSBuZXcgUHJvbWlzZSgocmVzb2x2ZSkgPT4gewogICAgY2FuY2VsLm9uY2xpY2sgPSAoKSA9PiB7CiAgICAgIHJlc29sdmUobnVsbCk7CiAgICB9OwogIH0pOwoKICAvLyBXYWl0IGZvciB0aGUgdXNlciB0byBwaWNrIHRoZSBmaWxlcy4KICBjb25zdCBmaWxlcyA9IHlpZWxkIHsKICAgIHByb21pc2U6IFByb21pc2UucmFjZShbcGlja2VkUHJvbWlzZSwgY2FuY2VsUHJvbWlzZV0pLAogICAgcmVzcG9uc2U6IHsKICAgICAgYWN0aW9uOiAnc3RhcnRpbmcnLAogICAgfQogIH07CgogIGNhbmNlbC5yZW1vdmUoKTsKCiAgLy8gRGlzYWJsZSB0aGUgaW5wdXQgZWxlbWVudCBzaW5jZSBmdXJ0aGVyIHBpY2tzIGFyZSBub3QgYWxsb3dlZC4KICBpbnB1dEVsZW1lbnQuZGlzYWJsZWQgPSB0cnVlOwoKICBpZiAoIWZpbGVzKSB7CiAgICByZXR1cm4gewogICAgICByZXNwb25zZTogewogICAgICAgIGFjdGlvbjogJ2NvbXBsZXRlJywKICAgICAgfQogICAgfTsKICB9CgogIGZvciAoY29uc3QgZmlsZSBvZiBmaWxlcykgewogICAgY29uc3QgbGkgPSBkb2N1bWVudC5jcmVhdGVFbGVtZW50KCdsaScpOwogICAgbGkuYXBwZW5kKHNwYW4oZmlsZS5uYW1lLCB7Zm9udFdlaWdodDogJ2JvbGQnfSkpOwogICAgbGkuYXBwZW5kKHNwYW4oCiAgICAgICAgYCgke2ZpbGUudHlwZSB8fCAnbi9hJ30pIC0gJHtmaWxlLnNpemV9IGJ5dGVzLCBgICsKICAgICAgICBgbGFzdCBtb2RpZmllZDogJHsKICAgICAgICAgICAgZmlsZS5sYXN0TW9kaWZpZWREYXRlID8gZmlsZS5sYXN0TW9kaWZpZWREYXRlLnRvTG9jYWxlRGF0ZVN0cmluZygpIDoKICAgICAgICAgICAgICAgICAgICAgICAgICAgICAgICAgICAgJ24vYSd9IC0gYCkpOwogICAgY29uc3QgcGVyY2VudCA9IHNwYW4oJzAlIGRvbmUnKTsKICAgIGxpLmFwcGVuZENoaWxkKHBlcmNlbnQpOwoKICAgIG91dHB1dEVsZW1lbnQuYXBwZW5kQ2hpbGQobGkpOwoKICAgIGNvbnN0IGZpbGVEYXRhUHJvbWlzZSA9IG5ldyBQcm9taXNlKChyZXNvbHZlKSA9PiB7CiAgICAgIGNvbnN0IHJlYWRlciA9IG5ldyBGaWxlUmVhZGVyKCk7CiAgICAgIHJlYWRlci5vbmxvYWQgPSAoZSkgPT4gewogICAgICAgIHJlc29sdmUoZS50YXJnZXQucmVzdWx0KTsKICAgICAgfTsKICAgICAgcmVhZGVyLnJlYWRBc0FycmF5QnVmZmVyKGZpbGUpOwogICAgfSk7CiAgICAvLyBXYWl0IGZvciB0aGUgZGF0YSB0byBiZSByZWFkeS4KICAgIGxldCBmaWxlRGF0YSA9IHlpZWxkIHsKICAgICAgcHJvbWlzZTogZmlsZURhdGFQcm9taXNlLAogICAgICByZXNwb25zZTogewogICAgICAgIGFjdGlvbjogJ2NvbnRpbnVlJywKICAgICAgfQogICAgfTsKCiAgICAvLyBVc2UgYSBjaHVua2VkIHNlbmRpbmcgdG8gYXZvaWQgbWVzc2FnZSBzaXplIGxpbWl0cy4gU2VlIGIvNjIxMTU2NjAuCiAgICBsZXQgcG9zaXRpb24gPSAwOwogICAgd2hpbGUgKHBvc2l0aW9uIDwgZmlsZURhdGEuYnl0ZUxlbmd0aCkgewogICAgICBjb25zdCBsZW5ndGggPSBNYXRoLm1pbihmaWxlRGF0YS5ieXRlTGVuZ3RoIC0gcG9zaXRpb24sIE1BWF9QQVlMT0FEX1NJWkUpOwogICAgICBjb25zdCBjaHVuayA9IG5ldyBVaW50OEFycmF5KGZpbGVEYXRhLCBwb3NpdGlvbiwgbGVuZ3RoKTsKICAgICAgcG9zaXRpb24gKz0gbGVuZ3RoOwoKICAgICAgY29uc3QgYmFzZTY0ID0gYnRvYShTdHJpbmcuZnJvbUNoYXJDb2RlLmFwcGx5KG51bGwsIGNodW5rKSk7CiAgICAgIHlpZWxkIHsKICAgICAgICByZXNwb25zZTogewogICAgICAgICAgYWN0aW9uOiAnYXBwZW5kJywKICAgICAgICAgIGZpbGU6IGZpbGUubmFtZSwKICAgICAgICAgIGRhdGE6IGJhc2U2NCwKICAgICAgICB9LAogICAgICB9OwogICAgICBwZXJjZW50LnRleHRDb250ZW50ID0KICAgICAgICAgIGAke01hdGgucm91bmQoKHBvc2l0aW9uIC8gZmlsZURhdGEuYnl0ZUxlbmd0aCkgKiAxMDApfSUgZG9uZWA7CiAgICB9CiAgfQoKICAvLyBBbGwgZG9uZS4KICB5aWVsZCB7CiAgICByZXNwb25zZTogewogICAgICBhY3Rpb246ICdjb21wbGV0ZScsCiAgICB9CiAgfTsKfQoKc2NvcGUuZ29vZ2xlID0gc2NvcGUuZ29vZ2xlIHx8IHt9OwpzY29wZS5nb29nbGUuY29sYWIgPSBzY29wZS5nb29nbGUuY29sYWIgfHwge307CnNjb3BlLmdvb2dsZS5jb2xhYi5fZmlsZXMgPSB7CiAgX3VwbG9hZEZpbGVzLAogIF91cGxvYWRGaWxlc0NvbnRpbnVlLAp9Owp9KShzZWxmKTsK",
              "ok": true,
              "headers": [
                [
                  "content-type",
                  "application/javascript"
                ]
              ],
              "status": 200,
              "status_text": ""
            }
          },
          "base_uri": "https://localhost:8080/",
          "height": 38
        },
        "id": "Kb--M1XC12Y6",
        "outputId": "940374aa-ed4c-4e3e-a10e-de4ebf1f44ae"
      },
      "source": [
        "from google.colab import files\n",
        "uploaded = files.upload()"
      ],
      "execution_count": 34,
      "outputs": [
        {
          "output_type": "display_data",
          "data": {
            "text/html": [
              "\n",
              "     <input type=\"file\" id=\"files-f926fc4a-e897-4970-a650-52194d747f34\" name=\"files[]\" multiple disabled\n",
              "        style=\"border:none\" />\n",
              "     <output id=\"result-f926fc4a-e897-4970-a650-52194d747f34\">\n",
              "      Upload widget is only available when the cell has been executed in the\n",
              "      current browser session. Please rerun this cell to enable.\n",
              "      </output>\n",
              "      <script src=\"/nbextensions/google.colab/files.js\"></script> "
            ],
            "text/plain": [
              "<IPython.core.display.HTML object>"
            ]
          },
          "metadata": {
            "tags": []
          }
        }
      ]
    },
    {
      "cell_type": "markdown",
      "metadata": {
        "id": "vXYdX0gQdj0m"
      },
      "source": [
        "## Siapkan datanya"
      ]
    },
    {
      "cell_type": "code",
      "metadata": {
        "id": "UP_AYP-c2GVY"
      },
      "source": [
        "f = open(\"Komentar.txt\", \"r\")\n",
        "data = f.read().lower().replace(\",\",'').replace(\".\",'').replace(\"?\",'') #Disini data masih mentah dan tipenya string\n",
        "#Data diatas udah dihapus tanda bancanya\n",
        "\n",
        "kumpulan_kalimat = data.split('\\n') #Dari data mentah, kita mengambil masing2 kalimat kedalam list. kebetulan antar komentar dipisahkan oleh \\n\n",
        "while (kumpulan_kalimat.count(\"\")): #Kebetulan, kumpulan kalimat yang didapat, terdapat element list yang isinya cuma \"\", jadi dihapus dulu.\n",
        "    kumpulan_kalimat.remove(\"\") "
      ],
      "execution_count": 35,
      "outputs": []
    },
    {
      "cell_type": "markdown",
      "metadata": {
        "id": "-8vaDSbsd1VA"
      },
      "source": [
        "Untuk masuk proses selanjutnya kita butuh kumpulan kata apa saja yang ada di dalam komentar tersebut"
      ]
    },
    {
      "cell_type": "code",
      "metadata": {
        "id": "lToNjAbt3BuR"
      },
      "source": [
        "kumpulan_kata = list(set(data.replace(\"\\n\",' ').split()))"
      ],
      "execution_count": 36,
      "outputs": []
    },
    {
      "cell_type": "markdown",
      "metadata": {
        "id": "1Bv4TgfqeFl4"
      },
      "source": [
        "Kini kita punya kumpulan kalimat dan juga kumpulan kata. Sebenarnya dari kumpulan kata tersbut, mungkin kita bisa lakukan lematisasi, stemming, dan mengubah kata typo menjadi data yang sebenarnya. Namun disini saya tidak lakukan hal itu karena beberapa hal, yaitu:\n",
        "- Sulit untuk dilakukan tanpa adanya bantuan libary pengolah kata\n",
        "- Kalaupun saya bisa membuat algoritmanya sendiri, sepertinya kurang worth it untuk dilakukan karena mungkin hasil akhirnya pun tidak akan jauh berbeda "
      ]
    },
    {
      "cell_type": "markdown",
      "metadata": {
        "id": "sQRpfwfRQYqH"
      },
      "source": [
        "## Pembobotan dilakukan dengan menggunakan TF-IDF"
      ]
    },
    {
      "cell_type": "markdown",
      "metadata": {
        "id": "A_9TEbNcntKU"
      },
      "source": [
        "Disini, kita akan melakukan pembobotan pada semua kata yang ada menggunakan TF-IDF agar dapat mencari mana kata yang paling signifikan dari tiap komentar"
      ]
    },
    {
      "cell_type": "code",
      "metadata": {
        "id": "DdN6D6Uj9oed"
      },
      "source": [
        "#Menghitung term frequency tiap kalimat pada data\n",
        "\n",
        "TF = []\n",
        "\n",
        "check = kumpulan_kata\n",
        "for kalimat in kumpulan_kalimat:\n",
        "  ans = []\n",
        "  for j in range(len(check)):\n",
        "    ans.append(kalimat.count(check[j])/len(kalimat.split()))\n",
        "  TF.append(ans)\n",
        "\n",
        "#Menghitung IDF pada data\n",
        "IDF = []\n",
        "for j in range(len(check)):\n",
        "  freq = 0\n",
        "  for kalimat in kumpulan_kalimat:\n",
        "    if kalimat.count(check[j]) > 0:\n",
        "      freq += 1\n",
        "  IDF.append(np.log(len(kumpulan_kalimat)/freq))\n",
        "\n",
        "bobot = np.sum(np.array(TF)*IDF, axis = 0)\n"
      ],
      "execution_count": 37,
      "outputs": []
    },
    {
      "cell_type": "markdown",
      "metadata": {
        "id": "R7Hp_yc-e9zN"
      },
      "source": [
        "Setelah dilakukan pembobotan, maka selanjutnya bobot dipasangkan dengan kata yang bersangkutan"
      ]
    },
    {
      "cell_type": "code",
      "metadata": {
        "colab": {
          "base_uri": "https://localhost:8080/",
          "height": 1000
        },
        "id": "PRUrk0_xfHtM",
        "outputId": "6f199125-4618-452f-d826-b046a5eec1ee"
      },
      "source": [
        "#Tiap kata dipasangkan dengan bobotnya masing2\n",
        "kata_bobot = pd.DataFrame([kumpulan_kata, bobot]).T\n",
        "kata_bobot.sort_values(1, axis=0, ascending=False)[0:60] #Kita ingin coba lihat 60 kata apa yang paling signifikan pada data tersebut"
      ],
      "execution_count": 38,
      "outputs": [
        {
          "output_type": "execute_result",
          "data": {
            "text/html": [
              "<div>\n",
              "<style scoped>\n",
              "    .dataframe tbody tr th:only-of-type {\n",
              "        vertical-align: middle;\n",
              "    }\n",
              "\n",
              "    .dataframe tbody tr th {\n",
              "        vertical-align: top;\n",
              "    }\n",
              "\n",
              "    .dataframe thead th {\n",
              "        text-align: right;\n",
              "    }\n",
              "</style>\n",
              "<table border=\"1\" class=\"dataframe\">\n",
              "  <thead>\n",
              "    <tr style=\"text-align: right;\">\n",
              "      <th></th>\n",
              "      <th>0</th>\n",
              "      <th>1</th>\n",
              "    </tr>\n",
              "  </thead>\n",
              "  <tbody>\n",
              "    <tr>\n",
              "      <th>129</th>\n",
              "      <td>barang</td>\n",
              "      <td>1.26241</td>\n",
              "    </tr>\n",
              "    <tr>\n",
              "      <th>335</th>\n",
              "      <td>gan</td>\n",
              "      <td>1.11481</td>\n",
              "    </tr>\n",
              "    <tr>\n",
              "      <th>290</th>\n",
              "      <td>sesuai</td>\n",
              "      <td>1.06122</td>\n",
              "    </tr>\n",
              "    <tr>\n",
              "      <th>46</th>\n",
              "      <td>ga</td>\n",
              "      <td>0.992369</td>\n",
              "    </tr>\n",
              "    <tr>\n",
              "      <th>45</th>\n",
              "      <td>uk</td>\n",
              "      <td>0.984441</td>\n",
              "    </tr>\n",
              "    <tr>\n",
              "      <th>221</th>\n",
              "      <td>it</td>\n",
              "      <td>0.96141</td>\n",
              "    </tr>\n",
              "    <tr>\n",
              "      <th>130</th>\n",
              "      <td>di</td>\n",
              "      <td>0.922608</td>\n",
              "    </tr>\n",
              "    <tr>\n",
              "      <th>153</th>\n",
              "      <td>baik</td>\n",
              "      <td>0.918809</td>\n",
              "    </tr>\n",
              "    <tr>\n",
              "      <th>302</th>\n",
              "      <td>ka</td>\n",
              "      <td>0.913404</td>\n",
              "    </tr>\n",
              "    <tr>\n",
              "      <th>62</th>\n",
              "      <td>dengan</td>\n",
              "      <td>0.904622</td>\n",
              "    </tr>\n",
              "    <tr>\n",
              "      <th>199</th>\n",
              "      <td>pengiriman</td>\n",
              "      <td>0.878277</td>\n",
              "    </tr>\n",
              "    <tr>\n",
              "      <th>316</th>\n",
              "      <td>sih</td>\n",
              "      <td>0.835901</td>\n",
              "    </tr>\n",
              "    <tr>\n",
              "      <th>282</th>\n",
              "      <td>cepat</td>\n",
              "      <td>0.82907</td>\n",
              "    </tr>\n",
              "    <tr>\n",
              "      <th>306</th>\n",
              "      <td>untuk</td>\n",
              "      <td>0.799617</td>\n",
              "    </tr>\n",
              "    <tr>\n",
              "      <th>195</th>\n",
              "      <td>bagus</td>\n",
              "      <td>0.794312</td>\n",
              "    </tr>\n",
              "    <tr>\n",
              "      <th>230</th>\n",
              "      <td>sampai</td>\n",
              "      <td>0.793225</td>\n",
              "    </tr>\n",
              "    <tr>\n",
              "      <th>217</th>\n",
              "      <td>respon</td>\n",
              "      <td>0.789747</td>\n",
              "    </tr>\n",
              "    <tr>\n",
              "      <th>232</th>\n",
              "      <td>nya</td>\n",
              "      <td>0.77069</td>\n",
              "    </tr>\n",
              "    <tr>\n",
              "      <th>338</th>\n",
              "      <td>ke</td>\n",
              "      <td>0.75535</td>\n",
              "    </tr>\n",
              "    <tr>\n",
              "      <th>279</th>\n",
              "      <td>tapi</td>\n",
              "      <td>0.745788</td>\n",
              "    </tr>\n",
              "    <tr>\n",
              "      <th>35</th>\n",
              "      <td>unt</td>\n",
              "      <td>0.740394</td>\n",
              "    </tr>\n",
              "    <tr>\n",
              "      <th>17</th>\n",
              "      <td>makasih</td>\n",
              "      <td>0.731665</td>\n",
              "    </tr>\n",
              "    <tr>\n",
              "      <th>68</th>\n",
              "      <td>kasih</td>\n",
              "      <td>0.711685</td>\n",
              "    </tr>\n",
              "    <tr>\n",
              "      <th>141</th>\n",
              "      <td>saya</td>\n",
              "      <td>0.711619</td>\n",
              "    </tr>\n",
              "    <tr>\n",
              "      <th>163</th>\n",
              "      <td>dah</td>\n",
              "      <td>0.701229</td>\n",
              "    </tr>\n",
              "    <tr>\n",
              "      <th>67</th>\n",
              "      <td>banyak</td>\n",
              "      <td>0.699302</td>\n",
              "    </tr>\n",
              "    <tr>\n",
              "      <th>40</th>\n",
              "      <td>beli</td>\n",
              "      <td>0.68429</td>\n",
              "    </tr>\n",
              "    <tr>\n",
              "      <th>114</th>\n",
              "      <td>ok</td>\n",
              "      <td>0.674857</td>\n",
              "    </tr>\n",
              "    <tr>\n",
              "      <th>23</th>\n",
              "      <td>yg</td>\n",
              "      <td>0.665984</td>\n",
              "    </tr>\n",
              "    <tr>\n",
              "      <th>327</th>\n",
              "      <td>ya</td>\n",
              "      <td>0.664916</td>\n",
              "    </tr>\n",
              "    <tr>\n",
              "      <th>288</th>\n",
              "      <td>langsung</td>\n",
              "      <td>0.6645</td>\n",
              "    </tr>\n",
              "    <tr>\n",
              "      <th>84</th>\n",
              "      <td>violet</td>\n",
              "      <td>0.661905</td>\n",
              "    </tr>\n",
              "    <tr>\n",
              "      <th>287</th>\n",
              "      <td>dan</td>\n",
              "      <td>0.660255</td>\n",
              "    </tr>\n",
              "    <tr>\n",
              "      <th>20</th>\n",
              "      <td>d</td>\n",
              "      <td>0.654304</td>\n",
              "    </tr>\n",
              "    <tr>\n",
              "      <th>240</th>\n",
              "      <td>barangnya</td>\n",
              "      <td>0.63213</td>\n",
              "    </tr>\n",
              "    <tr>\n",
              "      <th>332</th>\n",
              "      <td>semoga</td>\n",
              "      <td>0.630756</td>\n",
              "    </tr>\n",
              "    <tr>\n",
              "      <th>37</th>\n",
              "      <td>harga</td>\n",
              "      <td>0.628538</td>\n",
              "    </tr>\n",
              "    <tr>\n",
              "      <th>85</th>\n",
              "      <td>yang</td>\n",
              "      <td>0.60543</td>\n",
              "    </tr>\n",
              "    <tr>\n",
              "      <th>184</th>\n",
              "      <td>gak</td>\n",
              "      <td>0.603796</td>\n",
              "    </tr>\n",
              "    <tr>\n",
              "      <th>137</th>\n",
              "      <td>selamat</td>\n",
              "      <td>0.582751</td>\n",
              "    </tr>\n",
              "    <tr>\n",
              "      <th>197</th>\n",
              "      <td>warna</td>\n",
              "      <td>0.580064</td>\n",
              "    </tr>\n",
              "    <tr>\n",
              "      <th>55</th>\n",
              "      <td>lah</td>\n",
              "      <td>0.57879</td>\n",
              "    </tr>\n",
              "    <tr>\n",
              "      <th>210</th>\n",
              "      <td>oke</td>\n",
              "      <td>0.565384</td>\n",
              "    </tr>\n",
              "    <tr>\n",
              "      <th>304</th>\n",
              "      <td>pak</td>\n",
              "      <td>0.563496</td>\n",
              "    </tr>\n",
              "    <tr>\n",
              "      <th>296</th>\n",
              "      <td>ini</td>\n",
              "      <td>0.547552</td>\n",
              "    </tr>\n",
              "    <tr>\n",
              "      <th>21</th>\n",
              "      <td>itu</td>\n",
              "      <td>0.546591</td>\n",
              "    </tr>\n",
              "    <tr>\n",
              "      <th>99</th>\n",
              "      <td>ada</td>\n",
              "      <td>0.540137</td>\n",
              "    </tr>\n",
              "    <tr>\n",
              "      <th>299</th>\n",
              "      <td>bukan</td>\n",
              "      <td>0.537311</td>\n",
              "    </tr>\n",
              "    <tr>\n",
              "      <th>49</th>\n",
              "      <td>bahannya</td>\n",
              "      <td>0.535187</td>\n",
              "    </tr>\n",
              "    <tr>\n",
              "      <th>64</th>\n",
              "      <td>segitu</td>\n",
              "      <td>0.535187</td>\n",
              "    </tr>\n",
              "    <tr>\n",
              "      <th>60</th>\n",
              "      <td>lalu</td>\n",
              "      <td>0.530598</td>\n",
              "    </tr>\n",
              "    <tr>\n",
              "      <th>87</th>\n",
              "      <td>cuma</td>\n",
              "      <td>0.522919</td>\n",
              "    </tr>\n",
              "    <tr>\n",
              "      <th>61</th>\n",
              "      <td>kualitas</td>\n",
              "      <td>0.520849</td>\n",
              "    </tr>\n",
              "    <tr>\n",
              "      <th>34</th>\n",
              "      <td>banget</td>\n",
              "      <td>0.516265</td>\n",
              "    </tr>\n",
              "    <tr>\n",
              "      <th>44</th>\n",
              "      <td>dg</td>\n",
              "      <td>0.515639</td>\n",
              "    </tr>\n",
              "    <tr>\n",
              "      <th>207</th>\n",
              "      <td>rapi</td>\n",
              "      <td>0.506451</td>\n",
              "    </tr>\n",
              "    <tr>\n",
              "      <th>134</th>\n",
              "      <td>dgn</td>\n",
              "      <td>0.506162</td>\n",
              "    </tr>\n",
              "    <tr>\n",
              "      <th>78</th>\n",
              "      <td>copper</td>\n",
              "      <td>0.506162</td>\n",
              "    </tr>\n",
              "    <tr>\n",
              "      <th>322</th>\n",
              "      <td>kurirnya</td>\n",
              "      <td>0.499501</td>\n",
              "    </tr>\n",
              "    <tr>\n",
              "      <th>212</th>\n",
              "      <td>lelet</td>\n",
              "      <td>0.499501</td>\n",
              "    </tr>\n",
              "  </tbody>\n",
              "</table>\n",
              "</div>"
            ],
            "text/plain": [
              "              0         1\n",
              "129      barang   1.26241\n",
              "335         gan   1.11481\n",
              "290      sesuai   1.06122\n",
              "46           ga  0.992369\n",
              "45           uk  0.984441\n",
              "221          it   0.96141\n",
              "130          di  0.922608\n",
              "153        baik  0.918809\n",
              "302          ka  0.913404\n",
              "62       dengan  0.904622\n",
              "199  pengiriman  0.878277\n",
              "316         sih  0.835901\n",
              "282       cepat   0.82907\n",
              "306       untuk  0.799617\n",
              "195       bagus  0.794312\n",
              "230      sampai  0.793225\n",
              "217      respon  0.789747\n",
              "232         nya   0.77069\n",
              "338          ke   0.75535\n",
              "279        tapi  0.745788\n",
              "35          unt  0.740394\n",
              "17      makasih  0.731665\n",
              "68        kasih  0.711685\n",
              "141        saya  0.711619\n",
              "163         dah  0.701229\n",
              "67       banyak  0.699302\n",
              "40         beli   0.68429\n",
              "114          ok  0.674857\n",
              "23           yg  0.665984\n",
              "327          ya  0.664916\n",
              "288    langsung    0.6645\n",
              "84       violet  0.661905\n",
              "287         dan  0.660255\n",
              "20            d  0.654304\n",
              "240   barangnya   0.63213\n",
              "332      semoga  0.630756\n",
              "37        harga  0.628538\n",
              "85         yang   0.60543\n",
              "184         gak  0.603796\n",
              "137     selamat  0.582751\n",
              "197       warna  0.580064\n",
              "55          lah   0.57879\n",
              "210         oke  0.565384\n",
              "304         pak  0.563496\n",
              "296         ini  0.547552\n",
              "21          itu  0.546591\n",
              "99          ada  0.540137\n",
              "299       bukan  0.537311\n",
              "49     bahannya  0.535187\n",
              "64       segitu  0.535187\n",
              "60         lalu  0.530598\n",
              "87         cuma  0.522919\n",
              "61     kualitas  0.520849\n",
              "34       banget  0.516265\n",
              "44           dg  0.515639\n",
              "207        rapi  0.506451\n",
              "134         dgn  0.506162\n",
              "78       copper  0.506162\n",
              "322    kurirnya  0.499501\n",
              "212       lelet  0.499501"
            ]
          },
          "metadata": {
            "tags": []
          },
          "execution_count": 38
        }
      ]
    },
    {
      "cell_type": "markdown",
      "metadata": {
        "id": "XGP84_g_f1Re"
      },
      "source": [
        "Setelah dilihat dari bobot diatas, kita cari mana diantara kata-kata tersebut yang dapat kita labeli sebagai kata kunci negatif dan positif"
      ]
    },
    {
      "cell_type": "markdown",
      "metadata": {
        "id": "2M5supkUgJic"
      },
      "source": [
        "## Hasil Akhir"
      ]
    },
    {
      "cell_type": "markdown",
      "metadata": {
        "id": "Z5NqLCb3gOP6"
      },
      "source": [
        "Setelah kita tahu apa saja kata positif dan negatif pada data, kita akan mengevaluasi komentar-komentar yang ada dengan cara mencari apakah dalam komentar tersebut terdapat kata-kata yang sudah dilabeli positif dan negatif. \n",
        "Untuk kata negatif, kita ubah bobotnya menjadi negatif, sedangkan kata positif kita ubah bobotnya menjadi positif\n",
        "\n",
        "Setelah itu, kita hitung total bobot keseluruhan kata-kata yang bersangkutan dalam suatu komentar. Lalu bobot akhir dari suatu kalimat akan kita lihat, jika total bobot kalimat tersebut negatif, maka kalimat tersebut bernada negatif, sedangkan jika total bobot kalimat tersebut positif, maka kalimat tersebut bernada positif."
      ]
    },
    {
      "cell_type": "code",
      "metadata": {
        "colab": {
          "base_uri": "https://localhost:8080/"
        },
        "id": "zhP0hcKvo4jP",
        "outputId": "59c47aca-0de2-439f-b64d-225789d5710b"
      },
      "source": [
        "negative = [\"lelet\", \"tapi\", \"bukan\", \"gak\", \"cuma\"]\n",
        "positive = [\"bagus\", \"makasih\", \"cepat\", \"selamat\", \"cepet\", \"sesuai\"]\n",
        "\n",
        "hasil = []\n",
        "\n",
        "for kalimat in kumpulan_kalimat:\n",
        "  ans = 0\n",
        "  for kata in negative:\n",
        "    ans -= kalimat.count(kata)*(kata_bobot[kata_bobot[0] == kata][1]).item()\n",
        "  for kata in positive:\n",
        "    ans += kalimat.count(kata)*(kata_bobot[kata_bobot[0] == kata][1]).item()\n",
        "  hasil.append(ans)\n",
        "\n",
        "\n",
        "print(\"kalimat bernada negatif\")\n",
        "for i in range(len(hasil)):\n",
        "  if hasil[i] < 0:\n",
        "    print(\"-\", kumpulan_kalimat[i])\n",
        "\n",
        "print(\"\\nkalimat bernada positif\")\n",
        "for i in range(len(hasil)):\n",
        "  if hasil[i] > 0:\n",
        "    print(\"-\", kumpulan_kalimat[i])"
      ],
      "execution_count": 43,
      "outputs": [
        {
          "output_type": "stream",
          "text": [
            "kalimat bernada negatif\n",
            "- size l bukan 75cm panjangnya tapi 67cm yah label tidak di tengah jahita kurang rapih\n",
            "- waktu 1 kl beli kain bgs & uknya sesuai unt prmbelian yg 2 sebnyk 3 pc kainnya ke3 nya tidak sm uk xl sm kayak uk l sellernya gak bisa jaga kualitas kapok belanja di sini sudah saya chat supaya kirim warna hitam cuma 1 sisanya warna lain tapi tetap aja dikirim semua warna hitam lol tapi gapapa aku maklumi lah\n",
            "- seler response bagus cuma kurirnya yg lelet\n",
            "- lumayan lah dengan harga segitu gak usah expect terlalu tinggi\n",
            "- barang bagus dan sesuai dengan deskripsi tapi kayaknya saya pesan beda warna tetapi dikirim warna yang sama tapi nggak masalah\n",
            "- ini merk copper tapi kok dateng nya merk violet ya  dgn harga 47500 hrg violet temp glass 35000\n",
            "- mereknya bukan copper tapi violet gak sesuai iklan\n",
            "- tempered glass cukup tebal hanya saja masih agak garing sehingga gampang retak full cover-nya jg tidak fully cover terutama untuk bagian pinggir atas dan bawah kanan dan kiri tapi not bad lah sesuai dengan harganya\n",
            "- wkt itu beli 1 dapat free case tapi kali ini belum beruntung karna langsung beli 3 sekaligus tidak dapat free case nya hehehe however good quality trims\n",
            "- barangnya bagus cuman semua nempel disudut bawah ada yg masih ga nempel alias berangin tapi barang oke\n",
            "\n",
            "kalimat bernada positif\n",
            "- terimakasih respon nya pak bossuntuk kualitas kaos tipis & lusuh warna hitamnya antara badan & kera brbeda & baju tak semua sama berbeda2 tdk sama warna\n",
            "- pengirimannya cepet bangett semoga enak ya dipakai nyasukses selalu ka\n",
            "- kondisi barang sampai dengan baik sesuai ekspektasi\n",
            "- barang sesuai pesanan super ngebut pengiriman nya dan pelayanan nya responsif\n",
            "- kualitas kaos bagus jahitan aja kurang rapi tapi untuk harga segini udah mantul menurut saya pengiriman super cepat padahal beda kota pesan hari ini besok udah terima barang good job\n",
            "- kualitasnya oke pengiriman cepat recommended thanks ya\n",
            "- penjual aktif tlp dan jujur kalau warna yg saya pesan kosong  mau di ganti warna apa saya bilang biru langit ada  ada kata penjual  dan pengiriman cepat banget trima kasih kakak ats bantuannyarecomended utk teman x2 yg belanja di toko ini\n",
            "- langsung beli banyak barang sesuai\n",
            "- makasih untuk barangnya sampai dengan selamat\n",
            "- pengiriman cepat untuk harga segitu worth it banget  bahannya juga bagus\n",
            "- sesuai yang saya inginkantapi di toko lainnya kok bisa ada yang seharga 15000 kena apa ya \n",
            "- terimakasih kak paketannya cepat dan rapi bahannya adem serta halus\n",
            "- awalnya saya kira produk ini bagus lalu saya pun beli 3 waktu coba dipasang sepanjang tepi sisi kanan dan kirinya tidak bisa menempel dengan baik saya sampai coba ketiganya tetap sama saja tidak bisa menempel dengan baik mengecewakan penjual pun kurang responsif lagi ketika saya mengajukan komplain\n",
            "- barang yg dtg tdk sesuai mohon di perhatikan lg pesenan dan chat agar tidak ada lg konsumen yg kecewa terima kasih\n",
            "- biasanya quality cooper bagus kali ini saya kedapetan barang yang ga sempurna\n",
            "- sebenarnya sih produk bagus kualitas coating jg bagus pengiriman cepat tp entah kenapa masih krg bisa rapi dan presisi masih terdapat gelembung di samping kaca\n",
            "- barang sesuai deskripsi pengiriman cepat respon penjual baik\n",
            "- ukuran nya pas pengiriman cepat tapi sayang di bagian pinggir nya lem nya kurang nempel ya ok lah msh bisa dipake tp mohon ditingkatkan lagi krn saya expect yg sempurna soalnya ini produk official store \n"
          ],
          "name": "stdout"
        }
      ]
    },
    {
      "cell_type": "markdown",
      "metadata": {
        "id": "K4i68xZWix9a"
      },
      "source": [
        "## Kesimpulan"
      ]
    },
    {
      "cell_type": "markdown",
      "metadata": {
        "id": "McSKqJgYhzgN"
      },
      "source": [
        "- Dari hasil diatas, kita dapat melihat pembagian mana kalimat yang bernada positif, mana yang bernada negatif, walaupun hasilnya masih ada beberapa yang salah klasifikasinya\n",
        "\n",
        "- Kata kunci yang didapat dari keseluruhan data tersebut adalah:\n",
        "  - Negative = [\"lelet\", \"tapi\", \"bukan\", \"gak\", \"cuma\"]\n",
        "  - Positive = [\"bagus\", \"makasih\", \"cepat\", \"selamat\", \"cepet\", \"sesuai\"]\n",
        "\n",
        "- Hasil dari algoritma ini pasti masih banyak kekurangannya. Algoritma ini masih terlalu simple, apalagi algoritma ini tidak dibantu dengan library apapun kecuali numpy dan pandas. Maka dari itu, jika dapat digunakan library dan algoritma yang lebih kompleks (seperti LSTM), mungkin hasilnya akan lebih baik "
      ]
    }
  ]
}
