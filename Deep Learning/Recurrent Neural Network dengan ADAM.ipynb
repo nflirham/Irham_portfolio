{
 "cells": [
  {
   "cell_type": "markdown",
   "id": "fabulous-english",
   "metadata": {
    "id": "roman-imagination"
   },
   "source": [
    "<p style=\"font-family:Times;font-size:250%; text-align:center\"> <font color='red'>Recurrent Neural Network (RNN) dengan Optimizer ADAM</font></p>\n",
    "<p style=\"font-family:Times;font-size:200%; text-align:center\"> <font color='brown'>Untuk data sekuensial</font></p>\n",
    "\n",
    "___"
   ]
  },
  {
   "cell_type": "markdown",
   "id": "contemporary-cabin",
   "metadata": {},
   "source": [
    "# Tugas 2 DL2021\n",
    "## M.Naufal Irham R. (108181019)\n",
    "\n",
    "Code di bawah ini tidak banyak diubah agar memudahkan dalam mengkoreksi. Hanya beberapa baris saja yang diubah untuk kebutuhan modifikasi optimizer menjadi optimizer ADAM"
   ]
  },
  {
   "cell_type": "code",
   "execution_count": 1,
   "id": "vocational-intention",
   "metadata": {
    "id": "published-benjamin"
   },
   "outputs": [],
   "source": [
    "from numpy import *   \n",
    "import numpy as np\n",
    "from numpy.random import *\n",
    "import pandas as pd\n",
    "import pickle\n",
    "from datetime import datetime\n",
    "import matplotlib.pyplot as plt\n",
    "import seaborn as sb\n",
    "#sb.set_theme()\n",
    "sb.set_style(\"whitegrid\")\n",
    "#sb.set_style(\"darkgrid\")\n",
    "\n",
    "%matplotlib inline\n",
    "\n",
    "np.set_printoptions(precision = 3, suppress = True, formatter = {'float':'{:6.5f}'.format})\n",
    "\n",
    "#Sigmoid function & its derivative\n",
    "sigmoid = lambda Z: 1/(1+exp(-Z))\n",
    "dsigmoid = lambda A: A*(1-A)\n",
    "\n",
    "#ReLU function & its derivative\n",
    "ReLU  = lambda Z: Z.clip(0)\n",
    "#Derivative of ReLU function\n",
    "dReLU = lambda A: (A > 0)*1\n",
    "\n",
    "#Derivativer of tanh()\n",
    "dtanh = lambda A: 1-A**2\n",
    "\n",
    "#Derivative oh arctanh\n",
    "darctanh = lambda A: 1/(A**2+1)\n",
    "\n",
    "#Softplus function & its derivative\n",
    "splus = lambda Z: log(1+exp(Z))\n",
    "dsplus = lambda A: 1/(1+exp(-A))\n",
    "\n",
    "linear = lambda X,w,b: X@w+b\n",
    "\n",
    "\"Time step (ts)\"\n",
    "def steps(x, step):   \n",
    "    obs  = len(x)-step\n",
    "    xt   = x[:obs,:]\n",
    "    for i in arange(1,step+1):\n",
    "        xt = hstack((xt, x[i:obs+i,:]))   \n",
    "    return xt"
   ]
  },
  {
   "cell_type": "code",
   "execution_count": 2,
   "id": "understanding-particular",
   "metadata": {
    "id": "instrumental-johnson"
   },
   "outputs": [],
   "source": [
    "class RNN:\n",
    "    def __init__(self,x,nh,alpha,epochs): # ada h nodes di dalam hidden layer  hlayers = [7, 3, 34, 89]\n",
    "        self.Xtrain  = x #input\n",
    "        self.ytrain  = x[:,-1:] #output     \n",
    "        self.nh = nh   #number of neurons in hidden layer\n",
    "        self.α  = alpha\n",
    "        self.epochs = epochs\n",
    "        self.Ts = shape(self.Xtrain)[1]-1   # Time-steps\n",
    "        self.N, no = shape(self.ytrain)     #jumlah observasi (self.N) dan jumlah output\n",
    "        self.ni    = 1  #jumlah input\n",
    "        \n",
    "        ###Modifikasi ada dibawah ini######################################\n",
    "        \"Initial values untuk parameter w and b\"\n",
    "        seed(20201212)\n",
    "        self.neurons = [self.ni, self.nh, no]\n",
    "\n",
    "        self.w, self.b, self.Vw, self.Mw, self.Vb, self.Mb = [],[],[],[],[],[]\n",
    "\n",
    "        for i in range(len(self.neurons)-1):\n",
    "          self.w.append(randn(self.neurons[i], self.neurons[i+1]))\n",
    "          self.b.append(randn(1, self.neurons[i+1]))\n",
    "          self.Mw.append(zeros((self.neurons[i], self.neurons[i+1])))\n",
    "          self.Mb.append(zeros((1, self.neurons[i+1])))\n",
    "          self.Vw.append(self.Mw[i])\n",
    "          self.Vb.append(self.Mb[i])\n",
    "\n",
    "        self.w.append(randn(self.nh,self.nh))\n",
    "        self.Mw.append(zeros((self.nh,self.nh)))\n",
    "        self.Vw.append(self.Mw[i+1])\n",
    "        #####################################################################\n",
    "        \n",
    "    def learning(self):\n",
    "        self.ycap = []\n",
    "        t = 1 #t adalah berapa kali optimisasi dilakukan\n",
    "        for i in range(len(self.Xtrain)):\n",
    "            self.S1 = [zeros((self.ni, self.nh))]  \n",
    "            self.S2 = []\n",
    "            ###Modifikasi kecil ada dibawah ini##################\n",
    "            dCdw0 = zeros_like(self.w[0])\n",
    "            dCdb0 = zeros_like(self.b[0])\n",
    "            dCdw1 = zeros_like(self.w[1])\n",
    "            dCdb1 = zeros_like(self.b[1])\n",
    "            dCdws = zeros_like(self.w[2])\n",
    "            \n",
    "            \"Forward propagation in time step\"\n",
    "            for k in range(self.Ts):       \n",
    "                A0 = self.Xtrain[i,k]\n",
    "                yk = self.Xtrain[i,k + 1]\n",
    "            \n",
    "                # Forward pass, 1st layer\n",
    "                Z1 = dot(A0,self.w[0]) + self.b[0] + (self.S1[-1]@self.w[2]) \n",
    "                A1 = tanh(Z1)\n",
    "                self.S1.append(copy(A1))   \n",
    "            \n",
    "                # Forward pass, 2nd layer\n",
    "                Z2 = A1@self.w[1] + self.b[1]\n",
    "                A2 = sigmoid(Z2)\n",
    "                self.S2.append(copy(A2))\n",
    "                \n",
    "            self.ycap.append(A2[0])\n",
    "            \n",
    "            \"Backward propagation in time step\"\n",
    "            for k in arange(self.Ts)[::-1]:     \n",
    "                A0 = self.Xtrain[i,k]\n",
    "                yk = self.Xtrain[i,k + 1]\n",
    "            \n",
    "                # Backprop, 2nd layer\n",
    "                dCdZ2 = -(yk - self.S2[k]) * dsigmoid(self.S2[k])\n",
    "                dCdw1 += dot(self.S1[k+1].T,dCdZ2)\n",
    "                dCdb1 += sum(dCdZ2)\n",
    "            \n",
    "                # Backprop, 1st layer\n",
    "                dCdZ1 = dCdZ2@self.w[1].T * dtanh(self.S1[k+1])\n",
    "                dCdw0 += dot(A0, dCdZ1)\n",
    "                dCdb0 += sum(dCdZ1)\n",
    "            \n",
    "                # Backprob, recurrent layer\n",
    "                dCdws += dot(self.S1[k].T, dCdZ1)\n",
    "            #######################################################\n",
    "            \n",
    "            ### Modidikasi ada dibawah ini ##################################### \n",
    "            \"Perubahan parameters (w dan b):\"\n",
    "            beta1   = 0.9\n",
    "            beta2   = 0.999\n",
    "            epsilon = 10**(-8) \n",
    "\n",
    "            grad = [dCdw0, dCdw1, dCdb0, dCdb1, dCdws]\n",
    "            \"Algoritma ADAM\" \n",
    "            for i in range(len(self.neurons)-1): #Urutan update: w0&b0 lalu w1&b1\n",
    "\n",
    "                self.Mw[i] = beta1*array(self.Mw[i]) + (1-beta1)*grad[i]\n",
    "                self.Vw[i] = beta2*array(self.Vw[i]) + (1-beta1)*grad[i]**2\n",
    "                \n",
    "                MwHat = self.Mw[i]/(1-(beta1)**t)\n",
    "                VwHat = self.Vw[i]/(1-(beta2)**t)\n",
    "\n",
    "                self.w[i] -= self.α*MwHat/(sqrt(VwHat) + epsilon) #Update parameter w\n",
    "\n",
    "                self.Mb[i] = beta1*array(self.Mb[i]) + (1-beta1)*grad[i+2]\n",
    "                self.Vb[i] = beta2*array(self.Vb[i]) + (1-beta1)*grad[i+2]**2\n",
    "                \n",
    "                MbHat = self.Mb[i]/(1-(beta1)**t)\n",
    "                VbHat = self.Vb[i]/(1-(beta2)**t)\n",
    "\n",
    "                self.b[i] -= self.α*MbHat/(sqrt(VbHat) + epsilon) #Update parameter b\n",
    "\n",
    "            #Updating untuk ws\n",
    "            self.Mw[i+1] = beta1*array(self.Mw[i+1]) + (1-beta1)*grad[i+3]\n",
    "            self.Vw[i+1] = beta2*array(self.Vw[i+1]) + (1-beta1)*grad[i+3]**2\n",
    "                \n",
    "            MwHat = self.Mw[i+1]/(1-(beta1)**t)\n",
    "            VwHat = self.Vw[i+1]/(1-(beta2)**t)\n",
    "\n",
    "            self.w[i+1] -= self.α*MwHat/(sqrt(VwHat) + epsilon) #Update parameter w\n",
    "\n",
    "            t += 1\n",
    "            ###############################################################"
   ]
  },
  {
   "cell_type": "markdown",
   "id": "verbal-accordance",
   "metadata": {
    "id": "primary-fifteen"
   },
   "source": [
    "#### Contoh #1: Pemakaian RNN untuk memecahkan masalah XOR Gate"
   ]
  },
  {
   "cell_type": "code",
   "execution_count": 3,
   "id": "executed-meeting",
   "metadata": {
    "id": "IRZ1TU_iHNWk"
   },
   "outputs": [],
   "source": [
    "X = array([(0,0,0), (1,0,0), (0,1,0), (1,1,1)])   #Input\r\n",
    "y = array([[0, 1, 1, 0]])   #Output\r\n",
    "\r\n",
    "Xtrain = array([[1,1,1,0], \r\n",
    "                [1,0,0,1], \r\n",
    "                [0,1,0,1], \r\n",
    "                [0,0,0,0]])\r\n",
    "ytrain = y"
   ]
  },
  {
   "cell_type": "code",
   "execution_count": 4,
   "id": "sonic-transcript",
   "metadata": {
    "colab": {
     "base_uri": "https://localhost:8080/"
    },
    "id": "nutritional-broad",
    "outputId": "22d58d94-2dbf-441f-bce7-7c0d18c2d238"
   },
   "outputs": [
    {
     "name": "stdout",
     "output_type": "stream",
     "text": [
      "\n",
      "Pada epoch ke 0 diperoleh predicted vs actual:\n",
      "[[0.68433 0.00000]\n",
      " [0.22131 1.00000]\n",
      " [0.63803 1.00000]\n",
      " [0.66613 0.00000]]\n",
      "\n",
      "Pada epoch ke 100 diperoleh predicted vs actual:\n",
      "[[0.15087 0.00000]\n",
      " [0.42725 1.00000]\n",
      " [0.88202 1.00000]\n",
      " [0.00842 0.00000]]\n",
      "\n",
      "Pada epoch ke 200 diperoleh predicted vs actual:\n",
      "[[0.12832 0.00000]\n",
      " [0.99371 1.00000]\n",
      " [0.94505 1.00000]\n",
      " [0.12810 0.00000]]\n",
      "\n",
      "Pada epoch ke 300 diperoleh predicted vs actual:\n",
      "[[0.09130 0.00000]\n",
      " [0.99146 1.00000]\n",
      " [0.96521 1.00000]\n",
      " [0.08211 0.00000]]\n",
      "\n",
      "Pada epoch ke 400 diperoleh predicted vs actual:\n",
      "[[0.07596 0.00000]\n",
      " [0.99418 1.00000]\n",
      " [0.97053 1.00000]\n",
      " [0.06614 0.00000]]\n",
      "\n",
      "Pada epoch ke 500 diperoleh predicted vs actual:\n",
      "[[0.06743 0.00000]\n",
      " [0.99524 1.00000]\n",
      " [0.97362 1.00000]\n",
      " [0.05684 0.00000]]\n"
     ]
    }
   ],
   "source": [
    "nh     = 4 \n",
    "alpha  = 2.5\n",
    "epochs = 501\n",
    "\n",
    "\"Training\"\n",
    "\n",
    "rnn1 = RNN(Xtrain,nh,alpha,epochs)\n",
    "tic = datetime.now()\n",
    "\n",
    "for n in range(epochs):\n",
    "    rnn1.learning()\n",
    "    e = rnn1.ycap - ytrain\n",
    "    sse = dot(e.T,e)/len(ytrain)\n",
    "    toc = datetime.now()\n",
    "            \n",
    "    if n % ((epochs-1)/5) == 0:\n",
    "        print(f\"\\nPada epoch ke {n} diperoleh predicted vs actual:\")\n",
    "        print(hstack((array(rnn1.ycap), ytrain.reshape(4,1))))"
   ]
  },
  {
   "cell_type": "markdown",
   "id": "juvenile-calculation",
   "metadata": {
    "id": "western-arabic"
   },
   "source": [
    "#### Contoh #2: Pemakaian RNN untuk penaksiran harga saham\n",
    "\n",
    "___"
   ]
  },
  {
   "cell_type": "code",
   "execution_count": 5,
   "id": "dedicated-flexibility",
   "metadata": {
    "id": "basic-oriental"
   },
   "outputs": [],
   "source": [
    "A  = pd.read_csv('D:/Downloadables/Data/INAF.JK.csv') #Data time series harian harga saham Bank Mandiri sejak 02 Januari 2015\n",
    "A6 = A['Adj Close'].values   #Ambil kolom ke enam berisi 'Adj Close', \n",
    "B  = A6[:,newaxis]  \n",
    "                                     \n",
    "Bmin = min(B)\n",
    "Bmax = max(B)\n",
    "b = (B-Bmin)/(Bmax-Bmin)\n",
    "\n",
    "ts = 1   #Di literatur Time Series digunakan istilah 'lag' sebagai padanan istilah 'timestep' ini\n",
    "xs = steps(b, ts)  #Dihasilkan matriks dengan 2 (= ts+1) kolom, kolom pertama menjadi variabel X\n",
    "                   #dan kolom terkhir menjadi variabel \n",
    "x = xs[-800:,:]    #Ambil 800 observasi terakhir\n",
    "\n",
    "#Data untuk training\n",
    "Xtrain = x[0:680,:]   #Ambil 680 observasi yang pertama dan hilangkan kolom terakhir\n",
    "ytrain = x[0:680:, -1:]  #Ambil 680 observasi yang pertama dan ambil kolom terakhir sebagai variabel y \n",
    "\n",
    "#Data untuk testing\n",
    "Xtest = x[680:, :]   #ambil jumlah observasi sebanyak 120, hilangkan kolom terakhir (untuk y)\n",
    "ytest = x[680:, -1:] #ambil kolom terakhir\n",
    "\n",
    "#plt.plot(Xtrain, color = 'b')\n",
    "#plt.show()"
   ]
  },
  {
   "cell_type": "code",
   "execution_count": 6,
   "id": "optimum-nashville",
   "metadata": {
    "colab": {
     "base_uri": "https://localhost:8080/",
     "height": 372
    },
    "id": "split-addition",
    "outputId": "2c011afe-cbb9-4588-b053-a4e5e2b22488"
   },
   "outputs": [
    {
     "name": "stdout",
     "output_type": "stream",
     "text": [
      "Epoch ke 0, SSE sebesar: 0.02383 dalam waktu 0:00:00.304432\n",
      "Epoch ke 5, SSE sebesar: 0.00103 dalam waktu 0:00:01.977686\n",
      "Epoch ke 10, SSE sebesar: 0.00098 dalam waktu 0:00:03.624162\n",
      "Epoch ke 15, SSE sebesar: 0.00096 dalam waktu 0:00:07.054290\n",
      "Epoch ke 20, SSE sebesar: 0.00094 dalam waktu 0:00:10.491323\n",
      "Epoch ke 25, SSE sebesar: 0.00093 dalam waktu 0:00:13.948707\n"
     ]
    },
    {
     "data": {
      "image/png": "[encoded data removed]",
      "text/plain": [
       "<Figure size 432x288 with 1 Axes>"
      ]
     },
     "metadata": {
      "needs_background": "light"
     },
     "output_type": "display_data"
    }
   ],
   "source": [
    "#Ringkasan nh = 3, alpha = 0.27 epochs = 36, ts = 1\n",
    "\n",
    "nh     = 3  \n",
    "alpha  = 0.05\n",
    "epochs = 26\n",
    "\n",
    "\"Training\"\n",
    "\n",
    "rnn2 = RNN(Xtrain,nh,alpha,epochs)\n",
    "tic = datetime.now()\n",
    "\n",
    "for n in range(epochs):\n",
    "    rnn2.learning()\n",
    "    e = rnn2.ycap - ytrain\n",
    "    sse = dot(e.T,e)/len(ytrain)\n",
    "    toc = datetime.now()\n",
    "            \n",
    "    if n % ((epochs-1)/5) == 0:\n",
    "        #print(f\"\\nPada epoch ke {n} diperoleh predicted vs actual:\")\n",
    "        #print(hstack((array(rnn2.ycap), ytrain.reshape(4,1))))\n",
    "        print(f\"Epoch ke {n}, SSE sebesar: {sse[0][0]:6.5f} dalam waktu {datetime.now()-tic}\")\n",
    "\n",
    "#rnn = RNN(Xtrain,nh,alpha,epochs)\n",
    "#rnn.training()\n",
    "\n",
    "plt.plot(ytrain, label = 'actual series')\n",
    "plt.plot(rnn2.ycap, label = 'predicted series')\n",
    "plt.legend()\n",
    "plt.show()"
   ]
  },
  {
   "cell_type": "markdown",
   "id": "dried-reviewer",
   "metadata": {
    "id": "pregnant-bailey"
   },
   "source": [
    "#### Test the model"
   ]
  },
  {
   "cell_type": "code",
   "execution_count": 7,
   "id": "valuable-logging",
   "metadata": {
    "colab": {
     "base_uri": "https://localhost:8080/",
     "height": 300
    },
    "id": "rolled-federation",
    "outputId": "268e2cb5-25e3-4f00-deab-478cb58a7b96"
   },
   "outputs": [
    {
     "name": "stdout",
     "output_type": "stream",
     "text": [
      "MSE training: 0.0009338 \n",
      "MSE testing : 0.0023812\n"
     ]
    },
    {
     "data": {
      "image/png": "[encoded data removed]",
      "text/plain": [
       "<Figure size 432x288 with 1 Axes>"
      ]
     },
     "metadata": {
      "needs_background": "light"
     },
     "output_type": "display_data"
    }
   ],
   "source": [
    "ytestcap = []\n",
    "\n",
    "for i in range(len(Xtest)):\n",
    "    S1 = [zeros((1, nh))]  \n",
    "    S2 = []              \n",
    "            \n",
    "    \"Forward propagation in time step\"\n",
    "    for k in range(rnn2.Ts):       \n",
    "        A0 = Xtest[i,k]\n",
    "        yk = Xtest[i,k + 1]\n",
    "            \n",
    "        # Forward pass, 1st layer\n",
    "        Z1 = dot(A0,rnn2.w[0]) + rnn2.b[0] + (S1[-1]@rnn2.w[2]) \n",
    "        A1 = tanh(Z1)\n",
    "        S1.append(copy(A1))   \n",
    "            \n",
    "        # Forward pass, 2nd layer\n",
    "        Z2 = A1@rnn2.w[1] + rnn2.b[1]\n",
    "        A2 = sigmoid(Z2)\n",
    "        rnn2.S2.append(copy(A2))\n",
    "                \n",
    "    ytestcap.append(A2[0])\n",
    "\n",
    "e = ytestcap - ytest\n",
    "ssetest = dot(e.T,e)/len(ytest)\n",
    "print('MSE training: %8.7f'%sse,'\\nMSE testing : %7.7f'%ssetest)\n",
    "      \n",
    "plt.plot(ytest, label = 'actual series')\n",
    "plt.plot(ytestcap, label = 'predicted series')\n",
    "plt.legend()\n",
    "plt.show()"
   ]
  }
 ],
 "metadata": {
  "colab": {
   "collapsed_sections": [],
   "name": "TUGAS 2 DL 2021 - 00_Recurrent Neural Network dengan Modifikasi ADAM.ipynb",
   "provenance": []
  },
  "kernelspec": {
   "display_name": "Python 3",
   "language": "python",
   "name": "python3"
  },
  "language_info": {
   "codemirror_mode": {
    "name": "ipython",
    "version": 3
   },
   "file_extension": ".py",
   "mimetype": "text/x-python",
   "name": "python",
   "nbconvert_exporter": "python",
   "pygments_lexer": "ipython3",
   "version": "3.8.5"
  }
 },
 "nbformat": 4,
 "nbformat_minor": 5
}
