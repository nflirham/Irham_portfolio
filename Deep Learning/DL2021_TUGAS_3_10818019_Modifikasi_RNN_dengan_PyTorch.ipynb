{
  "nbformat": 4,
  "nbformat_minor": 5,
  "metadata": {
    "kernelspec": {
      "display_name": "Python 3",
      "language": "python",
      "name": "python3"
    },
    "language_info": {
      "codemirror_mode": {
        "name": "ipython",
        "version": 3
      },
      "file_extension": ".py",
      "mimetype": "text/x-python",
      "name": "python",
      "nbconvert_exporter": "python",
      "pygments_lexer": "ipython3",
      "version": "3.7.9"
    },
    "colab": {
      "name": "DL2021 - TUGAS 3 - 10818019 - Modifikasi RNN dengan PyTorch",
      "provenance": [],
      "collapsed_sections": []
    }
  },
  "cells": [
    {
      "cell_type": "markdown",
      "metadata": {
        "id": "roman-imagination"
      },
      "source": [
        "<p style=\"font-family:Times;font-size:250%; text-align:center\"> <font color='red'>Recurrent Neural Network (RNN)</font></p>\n",
        "<p style=\"font-family:Times;font-size:200%; text-align:center\"> <font color='brown'>Untuk data sekuensial</font></p>"
      ],
      "id": "roman-imagination"
    },
    {
      "cell_type": "markdown",
      "metadata": {
        "id": "fossil-stretch"
      },
      "source": [
        "# DL2021 - TUGAS 3\n",
        "## Muhammad Naufal Irham R. (10818019)\n",
        "Semua code tidak banyak diubah, hanya beberapa bagian tertentu saja yang memang diubah sesuai kebutuhan"
      ],
      "id": "fossil-stretch"
    },
    {
      "cell_type": "code",
      "metadata": {
        "id": "published-benjamin"
      },
      "source": [
        "from numpy import *   \n",
        "import numpy as np\n",
        "from numpy.random import *\n",
        "import pandas as pd\n",
        "import pickle\n",
        "from datetime import datetime\n",
        "import matplotlib.pyplot as plt\n",
        "import seaborn as sb\n",
        "\n",
        "##Tambahan library\n",
        "import torch\n",
        "import torch.optim as optim\n",
        "\n",
        "#sb.set_theme()\n",
        "sb.set_style(\"whitegrid\")\n",
        "#sb.set_style(\"darkgrid\")\n",
        "\n",
        "%matplotlib inline\n",
        "\n",
        "np.set_printoptions(precision = 3, suppress = True, formatter = {'float':'{:6.5f}'.format})\n",
        "\n",
        "#Sigmoid function & its derivative\n",
        "sigmoid = lambda Z: 1/(1+torch.exp(-Z))\n",
        "dsigmoid = lambda A: A*(1-A)\n",
        "\n",
        "#ReLU function & its derivative\n",
        "ReLU  = lambda Z: Z.clip(0)\n",
        "#Derivative of ReLU function\n",
        "dReLU = lambda A: (A > 0)*1\n",
        "\n",
        "#Derivativer of tanh()\n",
        "dtanh = lambda A: 1-A**2\n",
        "\n",
        "#Derivative oh arctanh\n",
        "darctanh = lambda A: 1/(A**2+1)\n",
        "\n",
        "#Softplus function & its derivative\n",
        "splus = lambda Z: log(1+exp(Z))\n",
        "dsplus = lambda A: 1/(1+exp(-A))\n",
        "\n",
        "linear = lambda X,w,b: X@w+b\n",
        "\n",
        "\"Time step (ts)\"\n",
        "def steps(x, step):   \n",
        "    obs  = len(x)-step\n",
        "    xt   = x[:obs,:]\n",
        "    for i in torch.arange(1,step+1):\n",
        "        xt = torch.hstack((xt, x[i:obs+i,:]))   \n",
        "    return xt"
      ],
      "id": "published-benjamin",
      "execution_count": 41,
      "outputs": []
    },
    {
      "cell_type": "code",
      "metadata": {
        "id": "instrumental-johnson"
      },
      "source": [
        "class RNN:\n",
        "    def __init__(self,x,nh,alpha,epochs,method = 0): # ada h nodes di dalam hidden layer  hlayers = [7, 3, 34, 89]\n",
        "        self.Xtrain  = x #input\n",
        "        self.ytrain  = x[:,-1:] #output     \n",
        "        self.nh = nh   #number of neurons in hidden layer\n",
        "        self.α  = alpha\n",
        "        self.epochs = epochs\n",
        "        self.Ts = shape(self.Xtrain)[1]-1   # Time-steps\n",
        "        self.N, no = shape(self.ytrain)     #jumlah observasi (self.N) dan jumlah output\n",
        "        self.ni    = 1  #jumlah input\n",
        "        \n",
        "        ###Modifikasi ada dibawah ini######################################\n",
        "        self.method = method\n",
        "        \"Initial values untuk parameter w and b\"\n",
        "        self.neurons = [self.ni, self.nh, no]\n",
        "        \n",
        "        torch.manual_seed(20201212)\n",
        "        self.w, self.b = [],[]\n",
        "\n",
        "        for i in range(len(self.neurons)-1):\n",
        "            self.w.append(torch.randn(self.neurons[i], self.neurons[i+1], requires_grad = True))\n",
        "            self.b.append(torch.randn(1, self.neurons[i+1], requires_grad = True))\n",
        "\n",
        "        self.w.append(torch.randn(self.nh,self.nh, requires_grad = True))\n",
        "        #####################################################################\n",
        "    \n",
        "    def learning(self):\n",
        "        self.ycap = torch.Tensor([])\n",
        "        for i in range(len(self.Xtrain)):\n",
        "            self.S1 = [torch.zeros(self.ni, self.nh)]\n",
        "            self.S2 = []           \n",
        "            \n",
        "            \"Forward propagation in time step\"\n",
        "            for k in range(self.Ts):       \n",
        "                self.A0 = torch.Tensor([self.Xtrain[i,k]])\n",
        "                yk = torch.Tensor([self.Xtrain[i,k + 1]])\n",
        "            \n",
        "                # Forward pass, 1st layer\n",
        "                Z1 = self.A0@self.w[0] + self.b[0] + (self.S1[-1]@self.w[2]) \n",
        "                A1 = torch.tanh(Z1)\n",
        "                self.S1.append(torch.clone(A1))   \n",
        "            \n",
        "                # Forward pass, 2nd layer\n",
        "                Z2 = A1@self.w[1] + self.b[1]\n",
        "                A2 = sigmoid(Z2)\n",
        "                self.S2.append(torch.clone(A2))\n",
        "            \n",
        "            self.ycap = torch.cat((self.ycap, A2[0]),0)\n",
        "\n",
        "            e    = (yk - A2[0])\n",
        "            self.Cost = e.T@e/self.N  #mean squared error\n",
        "\n",
        "            \"Backward propagation in time step\"         \n",
        "            if self.method == 0: #Backward\n",
        "                self.Cost.backward()\n",
        "                for n in range(len(self.neurons)-1):\n",
        "                    with torch.no_grad():\n",
        "                        self.w[n] -= self.α*self.w[n].grad   #Parameter w di-update \n",
        "                        self.b[n] -= self.α*self.b[n].grad   #Parameter b di-update   \n",
        "                        # Manually zero the gradients after running the backward pass\n",
        "                        self.w[n].grad.zero_()\n",
        "                        self.b[n].grad.zero_()\n",
        "\n",
        "            elif self.method == 1: #Grad\n",
        "                for n in range(len(self.neurons)-1):\n",
        "                    gradw = torch.autograd.grad(self.Cost, self.w[n], retain_graph=True)\n",
        "                    gradb = torch.autograd.grad(self.Cost, self.b[n], retain_graph=True)\n",
        "                    with torch.no_grad():\n",
        "                        self.w[n] -= self.α * gradw[0]\n",
        "                        self.b[n] -= self.α * gradb[0]\n",
        "\n",
        "            elif self.method == 2: #Optim\n",
        "                self.Cost.backward()\n",
        "                for n in range(len(self.neurons)-1):               \n",
        "                    optimizer = optim.SGD((self.w[n], self.b[n]), lr = self.α)\n",
        "                    optimizer.step()\n",
        "                    optimizer.zero_grad()\n",
        "        \n",
        "        #############################################################################\n",
        "\n",
        "            \n"
      ],
      "id": "instrumental-johnson",
      "execution_count": 42,
      "outputs": []
    },
    {
      "cell_type": "markdown",
      "metadata": {
        "id": "primary-fifteen"
      },
      "source": [
        "#### Contoh #1: Pemakaian RNN untuk memecahkan masalah XOR Gate"
      ],
      "id": "primary-fifteen"
    },
    {
      "cell_type": "code",
      "metadata": {
        "id": "stock-situation"
      },
      "source": [
        "X = torch.Tensor([(0,0,0), (1,0,0), (0,1,0), (1,1,1)])   #Input\n",
        "y = torch.Tensor([0, 1, 1, 0])   #Output\n",
        "\n",
        "Xtrain = torch.Tensor([[1,1,1,0], \n",
        "                [1,0,0,1], \n",
        "                [0,1,0,1], \n",
        "                [0,0,0,0]])\n",
        "ytrain = torch.Tensor(y)"
      ],
      "id": "stock-situation",
      "execution_count": 43,
      "outputs": []
    },
    {
      "cell_type": "code",
      "metadata": {
        "colab": {
          "base_uri": "https://localhost:8080/"
        },
        "id": "ZVZ2gEy8F0Eg",
        "outputId": "7ccd598d-93c6-4ccd-a18d-9ebb0d20bffb"
      },
      "source": [
        "nh     = 5\r\n",
        "alpha  = 1\r\n",
        "epochs = 501\r\n",
        "\r\n",
        "\"Training\"\r\n",
        "### Modifikasi code dimulai dari sini ###################################\r\n",
        "method = [\"Backward\", \"Grad\", \"Optim\"]\r\n",
        "method_index = 2\r\n",
        "\r\n",
        "print(\"Metode yang digunakan:\", method[method_index])\r\n",
        "#########################################################################\r\n",
        "tic = datetime.now()\r\n",
        "\r\n",
        "rnn1 = RNN(Xtrain,nh,alpha,epochs,method_index)\r\n",
        "tic = datetime.now()\r\n",
        "\r\n",
        "for e in range(epochs):\r\n",
        "    rnn1.learning()\r\n",
        "    toc = datetime.now()\r\n",
        "            \r\n",
        "    if e % ((epochs-1)/5) == 0:\r\n",
        "        print(f\"\\nPada epoch ke {e} diperoleh predicted vs actual:\")\r\n",
        "        print(vstack((rnn1.ycap.detach(), ytrain)).T)\r\n",
        "\r\n",
        "print(f'Waktu untuk training (dengan {epochs} epochs) dan prediksi: ',  datetime.now()-tic)"
      ],
      "id": "ZVZ2gEy8F0Eg",
      "execution_count": 44,
      "outputs": [
        {
          "output_type": "stream",
          "text": [
            "Metode yang digunakan: Optim\n",
            "\n",
            "Pada epoch ke 0 diperoleh predicted vs actual:\n",
            "[[0.31174 0.00000]\n",
            " [0.35232 1.00000]\n",
            " [0.32324 1.00000]\n",
            " [0.58730 0.00000]]\n",
            "\n",
            "Pada epoch ke 100 diperoleh predicted vs actual:\n",
            "[[0.04194 0.00000]\n",
            " [0.91577 1.00000]\n",
            " [0.82065 1.00000]\n",
            " [0.18335 0.00000]]\n",
            "\n",
            "Pada epoch ke 200 diperoleh predicted vs actual:\n",
            "[[0.02077 0.00000]\n",
            " [0.94105 1.00000]\n",
            " [0.89537 1.00000]\n",
            " [0.11191 0.00000]]\n",
            "\n",
            "Pada epoch ke 300 diperoleh predicted vs actual:\n",
            "[[0.01480 0.00000]\n",
            " [0.95260 1.00000]\n",
            " [0.92043 1.00000]\n",
            " [0.08638 0.00000]]\n",
            "\n",
            "Pada epoch ke 400 diperoleh predicted vs actual:\n",
            "[[0.01192 0.00000]\n",
            " [0.95939 1.00000]\n",
            " [0.93362 1.00000]\n",
            " [0.07258 0.00000]]\n",
            "\n",
            "Pada epoch ke 500 diperoleh predicted vs actual:\n",
            "[[0.01020 0.00000]\n",
            " [0.96397 1.00000]\n",
            " [0.94199 1.00000]\n",
            " [0.06367 0.00000]]\n",
            "Waktu untuk training (dengan 501 epochs) dan prediksi:  0:00:01.693419\n"
          ],
          "name": "stdout"
        }
      ]
    },
    {
      "cell_type": "markdown",
      "metadata": {
        "id": "western-arabic"
      },
      "source": [
        "#### Contoh #2: Pemakaian RNN untuk penaksiran harga saham\n"
      ],
      "id": "western-arabic"
    },
    {
      "cell_type": "code",
      "metadata": {
        "id": "basic-oriental"
      },
      "source": [
        "#device = torch.device('cpu')\n",
        "device = torch.device('cuda') # Uncomment this to run on CPU\n",
        "\n",
        "S  = pd.read_csv('INAF.JK.csv')  #Data time series harian harga saham Intel sejak 02 Januari 2015\n",
        "S6 = S['Adj Close'].values   #Ambil kolom ke enam berisi 'Adj Close', \n",
        "B  = S6.reshape(-1,1)  \n",
        "                                     \n",
        "Bmin = min(B)\n",
        "Bmax = max(B)\n",
        "b = torch.Tensor((B-Bmin)/(Bmax-Bmin))\n",
        "\n",
        "ts = 1   #Di literatur Time Series digunakan istilah 'lag' sebagai padanan istilah 'timestep' ini\n",
        "xt = steps(b, ts)  #Dihasilkan matriks dengan 2 (= ts+1) kolom, kolom pertama menjadi variabel X\n",
        "                   #dan kolom terkhir menjadi variabel y\n",
        "\n",
        "x = xt[-800:,:]    #Ambil 800 observasi terakhir\n",
        "\n",
        "#Data untuk training\n",
        "Xtrain = x[0:680,:]   #Ambil 680 observasi yang pertama dan hilangkan kolom terakhir\n",
        "ytrain = x[0:680:, -1:]  #Ambil 680 observasi yang pertama dan ambil kolom terakhir sebagai variabel y \n",
        "\n",
        "#Data untuk testing\n",
        "Xtest = x[680:, :]   #ambil jumlah observasi sebanyak 120, hilangkan kolom terakhir (untuk y)\n",
        "ytest = x[680:, -1:]  #ambil kolom terakhir\n",
        "\n",
        "#plt.plot(Xtrain, color = 'b')\n",
        "#plt.show()"
      ],
      "id": "basic-oriental",
      "execution_count": 46,
      "outputs": []
    },
    {
      "cell_type": "code",
      "metadata": {
        "colab": {
          "base_uri": "https://localhost:8080/",
          "height": 389
        },
        "id": "split-addition",
        "outputId": "b7c3ccff-3d68-4920-a128-131260d9859f"
      },
      "source": [
        "#Ringkasan nh = 3, alpha = 0.27 epochs = 36, ts = 1\n",
        "\n",
        "nh     = 3\n",
        "alpha  = 5\n",
        "epochs = 36\n",
        "\n",
        "### Modifikasi code dimulai dari sini ###################################\n",
        "method = [\"Backward\", \"Grad\", \"Optim\"]\n",
        "method_index = 1\n",
        "\n",
        "print(\"Metode yang digunakan:\", method[method_index])\n",
        "#########################################################################\n",
        "\n",
        "\"Training\"\n",
        "\n",
        "rnn2 = RNN(Xtrain,nh,alpha,epochs, method_index)\n",
        "tic = datetime.now()\n",
        "\n",
        "for n in range(epochs):\n",
        "    rnn2.learning()\n",
        "    e = rnn2.ycap - ytrain[:,0]\n",
        "    sse = torch.sum(e**2)/len(ytrain[:,0])\n",
        "    toc = datetime.now()\n",
        "            \n",
        "    if n % ((epochs-1)/5) == 0:\n",
        "        #print(f\"\\nPada epoch ke {n} diperoleh predicted vs actual:\")\n",
        "        #print(hstack((array(rnn2.ycap), ytrain.reshape(4,1))))\n",
        "        print(f\"Epoch ke {n}, SSE sebesar: {sse.detach().numpy():6.5f} dalam waktu {datetime.now()-tic}\")\n",
        "\n",
        "#rnn = RNN(Xtrain,nh,alpha,epochs)\n",
        "#rnn.training()\n",
        "\n",
        "plt.plot(ytrain, label = 'actual series')\n",
        "plt.plot(rnn2.ycap.detach().numpy(), label = 'predicted series')\n",
        "plt.legend()\n",
        "plt.show()"
      ],
      "id": "split-addition",
      "execution_count": 47,
      "outputs": [
        {
          "output_type": "stream",
          "text": [
            "Metode yang digunakan: Grad\n",
            "Epoch ke 0, SSE sebesar: 0.12647 dalam waktu 0:00:00.479186\n",
            "Epoch ke 7, SSE sebesar: 0.02259 dalam waktu 0:00:03.779288\n",
            "Epoch ke 14, SSE sebesar: 0.00756 dalam waktu 0:00:07.057251\n",
            "Epoch ke 21, SSE sebesar: 0.00290 dalam waktu 0:00:10.294712\n",
            "Epoch ke 28, SSE sebesar: 0.00163 dalam waktu 0:00:13.595086\n",
            "Epoch ke 35, SSE sebesar: 0.00126 dalam waktu 0:00:16.876551\n"
          ],
          "name": "stdout"
        },
        {
          "output_type": "display_data",
          "data": {
            "image/png": "[encoded data removed]",
            "text/plain": [
              "<Figure size 432x288 with 1 Axes>"
            ]
          },
          "metadata": {
            "tags": [],
            "needs_background": "light"
          }
        }
      ]
    },
    {
      "cell_type": "markdown",
      "metadata": {
        "id": "pregnant-bailey"
      },
      "source": [
        "#### Test the model"
      ],
      "id": "pregnant-bailey"
    },
    {
      "cell_type": "code",
      "metadata": {
        "colab": {
          "base_uri": "https://localhost:8080/",
          "height": 300
        },
        "id": "rolled-federation",
        "outputId": "9d212f5b-afd3-4977-d02e-b3230a41481d"
      },
      "source": [
        "ytestcap = torch.Tensor([])\n",
        "\n",
        "for i in range(len(Xtest)):\n",
        "    S1 = [torch.zeros(rnn2.ni, rnn2.nh)]\n",
        "    S2 = []                    \n",
        "            \n",
        "    \"Forward propagation in time step\"\n",
        "    for k in range(rnn2.Ts):       \n",
        "        A0 = torch.Tensor([rnn2.Xtrain[i,k]])\n",
        "        yk = torch.Tensor([rnn2.Xtrain[i,k + 1]])\n",
        "            \n",
        "        # Forward pass, 1st layer\n",
        "        Z1 = A0@rnn2.w[0] + rnn2.b[0] + (S1[-1]@rnn2.w[2]) \n",
        "        A1 = torch.tanh(Z1)\n",
        "        S1.append(torch.clone(A1))   \n",
        "            \n",
        "        # Forward pass, 2nd layer\n",
        "        Z2 = A1@rnn2.w[1] + rnn2.b[1]\n",
        "        A2 = sigmoid(Z2)\n",
        "        S2.append(torch.clone(A2))\n",
        "            \n",
        "    ytestcap = torch.cat((ytestcap, A2[0]),0)\n",
        "\n",
        "e = ytestcap - ytest[:,0]\n",
        "ssetest = torch.sum(e**2)/len(ytest[:,0])\n",
        "print('MSE training: %8.7f'%sse.detach().numpy(),'\\nMSE testing : %7.7f'%ssetest.detach().numpy())\n",
        "      \n",
        "plt.plot(ytest, label = 'actual series')\n",
        "plt.plot(ytestcap.detach().numpy(), label = 'predicted series')\n",
        "plt.legend()\n",
        "plt.show()"
      ],
      "id": "rolled-federation",
      "execution_count": 48,
      "outputs": [
        {
          "output_type": "stream",
          "text": [
            "MSE training: 0.0012608 \n",
            "MSE testing : 0.0175160\n"
          ],
          "name": "stdout"
        },
        {
          "output_type": "display_data",
          "data": {
            "image/png": "[encoded data removed]",
            "text/plain": [
              "<Figure size 432x288 with 1 Axes>"
            ]
          },
          "metadata": {
            "tags": [],
            "needs_background": "light"
          }
        }
      ]
    }
  ]
}