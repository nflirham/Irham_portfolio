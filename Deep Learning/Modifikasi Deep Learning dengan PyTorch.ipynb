{
  "nbformat": 4,
  "nbformat_minor": 5,
  "metadata": {
    "kernelspec": {
      "display_name": "Python 3",
      "language": "python",
      "name": "python3"
    },
    "language_info": {
      "codemirror_mode": {
        "name": "ipython",
        "version": 3
      },
      "file_extension": ".py",
      "mimetype": "text/x-python",
      "name": "python",
      "nbconvert_exporter": "python",
      "pygments_lexer": "ipython3",
      "version": "3.7.9"
    },
    "colab": {
      "name": "DL2021 - TUGAS 3 - 10818019 - Modifikasi deep Learning dengan PyTorch",
      "provenance": [],
      "collapsed_sections": []
    }
  },
  "cells": [
    {
      "cell_type": "markdown",
      "metadata": {
        "id": "saved-likelihood"
      },
      "source": [
        "<p style=\"font-family:Times;font-size:250%; text-align:center\"> <font color='red'>Deep Learning dengan PyTorch</font></p>"
      ],
      "id": "saved-likelihood"
    },
    {
      "cell_type": "markdown",
      "metadata": {
        "id": "2vjGD8hQ0w5h"
      },
      "source": [
        "# DL2021 - TUGAS 3\r\n",
        "## Muhammad Naufal Irham R. (10818019)\r\n",
        "Semua code tidak banyak diubah, hanya beberapa bagian tertentu saja yang memang diubah sesuai kebutuhan"
      ],
      "id": "2vjGD8hQ0w5h"
    },
    {
      "cell_type": "code",
      "metadata": {
        "id": "brutal-intersection"
      },
      "source": [
        "import torch\n",
        "import numpy as np\n",
        "import pandas as pd\n",
        "import pickle\n",
        "import matplotlib.pyplot as plt\n",
        "from datetime import datetime\n",
        "##Tambahan library\n",
        "import torch.optim as optim\n",
        "\n",
        "%matplotlib inline\n",
        "\n",
        "torch.set_printoptions(precision = 3, profile = 3)   #, suppress = True, formatter = {'float':'{:7.4f}'.format})\n",
        "\n",
        "#Sigmoid function\n",
        "sigmoid = lambda Z: 1/(1+torch.exp(-Z))\n",
        "\n",
        "#Derivative of Sigmoid function/\n",
        "dsigmoid = lambda A: A*(1-A)\n",
        "\n",
        "linear = lambda X,w,b: X@w+b\n",
        "\n",
        "\"Time step (ts)\"\n",
        "def steps(x, step):   \n",
        "    obs  = len(x)-step\n",
        "    xt   = x[:obs,:]\n",
        "    for i in torch.arange(1,step+1):\n",
        "        xt = torch.hstack((xt, x[i:obs+i,:]))   \n",
        "    return xt"
      ],
      "id": "brutal-intersection",
      "execution_count": 21,
      "outputs": []
    },
    {
      "cell_type": "code",
      "metadata": {
        "id": "great-customer"
      },
      "source": [
        "class NeuralNetwork:\n",
        "    \n",
        "    def __init__(self,x,y,hlayers,alpha, method = 0): # ada h nodes di dalam hidden layer\n",
        "        self.X  = x #input\n",
        "        self.y  = y #output\n",
        "        self.α  = alpha\n",
        "        #Sedikit perubahan\n",
        "        self.method = method\n",
        "        \n",
        "        assert torch.Tensor.dim(y)  == 2   #y harus berupa matriks (berdimensi 2)\n",
        "        assert type(hlayers) == list\n",
        "        \n",
        "        ni = x.shape[1]  #jumlah features (variables)\n",
        "        self.N, no = y.shape   #jumlah observasi (self.N) dan jumlah output (no)\n",
        "        \n",
        "        neurons = [ni]\n",
        "        neurons.extend(hlayers)\n",
        "        neurons.append(no)   #jumlah neurons per layer, termasuk input layer \n",
        "        self.nlayers  = len(neurons)-1  #number of layers (tidak termasuk input layer)\n",
        "\n",
        "        \"Initial values untuk parameter w and b\"\n",
        "        self.w, self.b = [], []\n",
        "        for i in torch.arange(self.nlayers):\n",
        "            self.w.append(torch.randn(neurons[i], neurons[i+1], requires_grad = True))  #Sinapsis dari layer ke i menuju layer ke (i+1)\n",
        "            self.b.append(torch.randn(1, neurons[i+1], requires_grad = True))           #Bias di layer ke (i+1)    \n",
        "\n",
        "    def training(self):\n",
        "        \n",
        "        \"Forward propagation (perambatan maju)\"\n",
        "        Z, A = [], [self.X]\n",
        "        for j in torch.arange(self.nlayers):\n",
        "            Z.append(linear(A[j],self.w[j],self.b[j]))  #Reaksi kimia di layer ke (j + 1)\n",
        "            A.append(sigmoid(Z[j]))     #Aliran listrik di layer ke (j + 1)\n",
        "    \n",
        "        self.predicted_y = A[self.nlayers]\n",
        "        e         = self.y-self.predicted_y\n",
        "        self.Cost = e.T@e/self.N  #mean squared error\n",
        "\n",
        "        \"Backward propagation (perambatan mundur)\"\n",
        "\n",
        "        #### Modifikasi code dilakukan di bawah ini ##############################\n",
        "        if self.method == 0: #Backward\n",
        "            self.Cost.backward()\n",
        "        \n",
        "            for n in torch.arange(self.nlayers): \n",
        "                with torch.no_grad():\n",
        "                    self.w[n] -= self.α*self.w[n].grad   #Parameter w di-update \n",
        "                    self.b[n] -= self.α*self.b[n].grad   #Parameter b di-update     \n",
        "                \n",
        "                    # Manually zero the gradients after running the backward pass\n",
        "                    self.w[n].grad.zero_()\n",
        "                    self.b[n].grad.zero_()\n",
        "\n",
        "        elif self.method == 1: #Grad\n",
        "            for n in torch.arange(self.nlayers): \n",
        "                gradw = torch.autograd.grad(self.Cost, self.w[n], retain_graph=True)\n",
        "                gradb = torch.autograd.grad(self.Cost, self.b[n], retain_graph=True)\n",
        "                with torch.no_grad():\n",
        "                    self.w[n] -= self.α * gradw[0]\n",
        "                    self.b[n] -= self.α * gradb[0]\n",
        "            \n",
        "\n",
        "        elif self.method == 2: #Optim\n",
        "            self.Cost.backward()\n",
        "            for n in torch.arange(self.nlayers): \n",
        "                optimizer = optim.SGD((self.w[n], self.b[n]), lr = self.α)\n",
        "                optimizer.step()\n",
        "                optimizer.zero_grad()\n",
        "\n",
        "        #############################################################################\n",
        "                "
      ],
      "id": "great-customer",
      "execution_count": 22,
      "outputs": []
    },
    {
      "cell_type": "code",
      "metadata": {
        "colab": {
          "base_uri": "https://localhost:8080/"
        },
        "id": "given-pennsylvania",
        "outputId": "43d61d85-4743-40ad-e41d-45c1bea4cf33"
      },
      "source": [
        "tic = datetime.now()\n",
        "\n",
        "LogicGate = {\"AND\": [[0], [0], [0], [1]], \"NAND\": [[0], [1], [1], [1]],   \"OR\": [[0], [1], [1], [1]],\n",
        "            \"XOR\": [[0], [1], [1], [0]],  \"NOR\": [[1], [0], [0], [0]], \"XNOR\": [[1], [0], [0], [1]]}\n",
        "\n",
        "X = torch.Tensor([[0,0,0], [0,1,0], [1,0,0], [1,1,1]])\n",
        "y = torch.Tensor(LogicGate[\"XNOR\"])\n",
        "\n",
        "hlayers = [3, 2]  #Dua buah hidden layer masing-masing memiliki 3 neutrons dan 2 neutrons\n",
        "alpha   = 9\n",
        "epochs  = 300\n",
        "torch.manual_seed(20201212)\n",
        "\n",
        "#### Modifikasi code dilakukan di bawah ini ##############################\n",
        "method = [\"Backward\", \"Grad\", \"Optim\"]\n",
        "method_index = 0\n",
        "\n",
        "print(\"Metode yang digunakan:\", method[method_index])\n",
        "\n",
        "ann1 = NeuralNetwork(X,y,hlayers,alpha,method_index)\n",
        "#########################################################################\n",
        "\n",
        "for i in range(epochs): \n",
        "    ann1.training()\n",
        "    \n",
        "    if (i+1)%(epochs/3) == 0: \n",
        "        print (\"\\nIterasi ke:\",i+1)\n",
        "        print (\"Actual vs Predicted Output:\")\n",
        "        prediksi = ann1.predicted_y\n",
        "        print(torch.cat((y,prediksi), 1))\n",
        "        \n",
        "        print (\"\\nCost:\", ann1.Cost.detach().numpy()[0]) \n",
        "\n",
        "print('')\n",
        "print(\"Waktu yang diperlukan:\", datetime.now()-tic)"
      ],
      "id": "given-pennsylvania",
      "execution_count": 23,
      "outputs": [
        {
          "output_type": "stream",
          "text": [
            "Metode yang digunakan: Backward\n",
            "\n",
            "Iterasi ke: 100\n",
            "Actual vs Predicted Output:\n",
            "tensor([[1.000, 0.465],\n",
            "        [0.000, 0.075],\n",
            "        [0.000, 0.078],\n",
            "        [1.000, 0.768]], grad_fn=<CatBackward>)\n",
            "\n",
            "Cost: [0.0879935]\n",
            "\n",
            "Iterasi ke: 200\n",
            "Actual vs Predicted Output:\n",
            "tensor([[1.000, 0.962],\n",
            "        [0.000, 0.033],\n",
            "        [0.000, 0.035],\n",
            "        [1.000, 0.974]], grad_fn=<CatBackward>)\n",
            "\n",
            "Cost: [0.00112074]\n",
            "\n",
            "Iterasi ke: 300\n",
            "Actual vs Predicted Output:\n",
            "tensor([[1.000, 0.975],\n",
            "        [0.000, 0.022],\n",
            "        [0.000, 0.024],\n",
            "        [1.000, 0.982]], grad_fn=<CatBackward>)\n",
            "\n",
            "Cost: [0.00051174]\n",
            "\n",
            "Waktu yang diperlukan: 0:00:00.215203\n"
          ],
          "name": "stdout"
        }
      ]
    },
    {
      "cell_type": "code",
      "metadata": {
        "colab": {
          "base_uri": "https://localhost:8080/",
          "height": 443
        },
        "id": "swedish-western",
        "outputId": "f87dd7e0-eab8-45dd-8330-ab47c300c828"
      },
      "source": [
        "#device = torch.device('cpu')\n",
        "device = torch.device('cuda') # Uncomment this to run on CPU\n",
        "\n",
        "A  = pd.read_csv('INAF.JK.csv')  #Data time series harian harga saham Intel sejak 02 Januari 2015\n",
        "A6 = A['Adj Close'].values   #Ambil kolom ke enam berisi 'Adj Close', \n",
        "B  = A6.reshape(-1,1)  \n",
        "                                     \n",
        "Bmin = min(B)\n",
        "Bmax = max(B)\n",
        "b = torch.Tensor((B-Bmin)/(Bmax-Bmin))\n",
        "\n",
        "ts = 1   #Di literatur Time Series digunakan istilah 'lag' sebagai padanan istilah 'timestep' ini\n",
        "xt = steps(b, ts)  #Dihasilkan matriks dengan 2 (= ts+1) kolom, kolom pertama menjadi variabel X\n",
        "                   #dan kolom terkhir menjadi variabel y\n",
        "\n",
        "x = xt[-800:,:]    #Ambil 800 observasi terakhir\n",
        "\n",
        "#Data untuk training\n",
        "Xtrain = x[0:680, :-1]  #Ambil 680 observasi yang pertama dan hilangkan kolom terakhir\n",
        "ytrain = x[0:680:, -1:]  #Ambil 680 observasi yang pertama dan ambil kolom terakhir sebagai variabel y \n",
        "\n",
        "#Data untuk testing\n",
        "Xtest = x[680:, :-1]  #ambil jumlah observasi sebanyak 120, hilangkan kolom terakhir (untuk y)\n",
        "ytest = x[680:, -1:]  #ambil kolom terakhir\n",
        "\n",
        "hlayers = [3, 2]  #Dua hidden layers, masing-masing dengan 3 neurons dan 2 neurons\n",
        "alpha   = 8\n",
        "epochs  = 20000\n",
        "\n",
        "### Modifikasi code dimulai dari sini ###################################\n",
        "method = [\"Backward\", \"Grad\", \"Optim\"]\n",
        "method_index = 1\n",
        "\n",
        "print(\"Metode yang digunakan:\", method[method_index])\n",
        "\n",
        "ann2    = NeuralNetwork(Xtrain,ytrain,hlayers,alpha,method_index)\n",
        "#########################################################################\n",
        "\n",
        "tic = datetime.now()\n",
        "torch.manual_seed(20201212)\n",
        "\n",
        "for t in range(epochs): \n",
        "    ann2.training()\n",
        "    \n",
        "    if (t+1)%(epochs/5) == 0:   #tampilkan output lima kali\n",
        "        print(\"Sampai epoch ke\", t+1,\"dicapai akurasi MSE sebesar %8.7f\" %ann2.Cost,\"dengan waktu\", datetime.now()-tic)\n",
        "\n",
        "toc = datetime.now()\n",
        "print('\\nAkurasi dengan data training: %8.7f' %ann2.Cost.detach().numpy(),'\\n')\n",
        "\n",
        "plt.plot(ytrain, label = 'actual series')\n",
        "plt.plot(ann2.predicted_y.detach().numpy(), label = 'predicted series')\n",
        "plt.legend()\n",
        "plt.show()\n",
        "\n",
        "toc = datetime.now()\n",
        "print(f'Waktu yang diperlukan dari mulai training ({epochs} epochs): ', toc-tic)"
      ],
      "id": "swedish-western",
      "execution_count": 25,
      "outputs": [
        {
          "output_type": "stream",
          "text": [
            "Metode yang digunakan: Grad\n",
            "Sampai epoch ke 4000 dicapai akurasi MSE sebesar 0.0008630 dengan waktu 0:00:06.689340\n",
            "Sampai epoch ke 8000 dicapai akurasi MSE sebesar 0.0006561 dengan waktu 0:00:13.267172\n",
            "Sampai epoch ke 12000 dicapai akurasi MSE sebesar 0.0006385 dengan waktu 0:00:19.896372\n",
            "Sampai epoch ke 16000 dicapai akurasi MSE sebesar 0.0006350 dengan waktu 0:00:26.505297\n",
            "Sampai epoch ke 20000 dicapai akurasi MSE sebesar 0.0006328 dengan waktu 0:00:33.052057\n",
            "\n",
            "Akurasi dengan data training: 0.0006328 \n",
            "\n"
          ],
          "name": "stdout"
        },
        {
          "output_type": "display_data",
          "data": {
            "image/png": "[encoded data removed]",
            "text/plain": [
              "<Figure size 432x288 with 1 Axes>"
            ]
          },
          "metadata": {
            "tags": [],
            "needs_background": "light"
          }
        },
        {
          "output_type": "stream",
          "text": [
            "Waktu yang diperlukan dari mulai training (20000 epochs):  0:00:33.219051\n"
          ],
          "name": "stdout"
        }
      ]
    },
    {
      "cell_type": "code",
      "metadata": {
        "colab": {
          "base_uri": "https://localhost:8080/",
          "height": 336
        },
        "id": "marked-taiwan",
        "outputId": "f9d82f86-9f11-430a-b4fb-6e327bf25116"
      },
      "source": [
        "\"Forward propagation (perambatan maju)\"\n",
        "tic = datetime.now()\n",
        "Z = []\n",
        "A = [Xtest]\n",
        "for layer in range(ann2.nlayers):\n",
        "    Z.append(A[layer]@ann2.w[layer] + ann2.b[layer])\n",
        "    A.append(sigmoid(Z[layer]))   #Forward propagaation\n",
        "\n",
        "ytesthat = A[ann2.nlayers]\n",
        "msetest = (ytest-ytesthat).T@(ytest-ytesthat)/len(ytest)   #MSE semasa testing\n",
        "print('')\n",
        "print('MSE training: %8.7f'%ann2.Cost,'\\nMSE testing : %7.7f'%msetest)\n",
        "\n",
        "ytesto    = ytest*(Bmax-Bmin)+Bmin      #Kembalikan datanya ke original unit dalam satuan dolar\n",
        "ytesthato = ytesthat.detach().numpy()*(Bmax-Bmin)+Bmin   #Kembalikan datanya ke original unit dalam satuan dolar\n",
        "\n",
        "plt.plot(ytesto, label = 'actual series')\n",
        "plt.plot(ytesthato, label = 'predicted series')\n",
        "plt.legend()\n",
        "plt.show()\n",
        "toc = datetime.now()\n",
        "\n",
        "print(f'Waktu untuk training (dengan {epochs} epochs) dan prediksi: ',  toc-tic)"
      ],
      "id": "marked-taiwan",
      "execution_count": 26,
      "outputs": [
        {
          "output_type": "stream",
          "text": [
            "\n",
            "MSE training: 0.0006328 \n",
            "MSE testing : 0.0018939\n"
          ],
          "name": "stdout"
        },
        {
          "output_type": "display_data",
          "data": {
            "image/png": "[encoded data removed]",
            "text/plain": [
              "<Figure size 432x288 with 1 Axes>"
            ]
          },
          "metadata": {
            "tags": [],
            "needs_background": "light"
          }
        },
        {
          "output_type": "stream",
          "text": [
            "Waktu untuk training (dengan 20000 epochs) dan prediksi:  0:00:00.185006\n"
          ],
          "name": "stdout"
        }
      ]
    }
  ]
}
