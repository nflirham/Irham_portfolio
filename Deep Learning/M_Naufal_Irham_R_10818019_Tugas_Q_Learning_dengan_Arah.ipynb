{
  "nbformat": 4,
  "nbformat_minor": 0,
  "metadata": {
    "colab": {
      "name": "M. Naufal Irham R. - 10818019 - Tugas Q-Learning dengan Arah",
      "provenance": [],
      "collapsed_sections": []
    },
    "kernelspec": {
      "name": "python3",
      "display_name": "Python 3"
    },
    "language_info": {
      "name": "python"
    }
  },
  "cells": [
    {
      "cell_type": "markdown",
      "metadata": {
        "id": "LZw_G8KXtAio"
      },
      "source": [
        "# Tugas Q-Learning dengan Arah\n",
        "---\n",
        "M. Naufal Irham Ramdhani\n",
        "\n",
        "10818019"
      ]
    },
    {
      "cell_type": "code",
      "metadata": {
        "id": "cafzI639PYno"
      },
      "source": [
        "import numpy as np\n",
        "import matplotlib.pyplot as plt\n",
        "import random"
      ],
      "execution_count": 1,
      "outputs": []
    },
    {
      "cell_type": "markdown",
      "metadata": {
        "id": "_miTT3LpiGKG"
      },
      "source": [
        "## Buat terlebih dahulu peta CAS sederhana"
      ]
    },
    {
      "cell_type": "markdown",
      "metadata": {
        "id": "hjgKLtcNiuTo"
      },
      "source": [
        "Untuk tembok, di berikan nilai reward -1, sedangkan koridor yang bisa dilewati bernilai reward 1"
      ]
    },
    {
      "cell_type": "code",
      "metadata": {
        "colab": {
          "base_uri": "https://localhost:8080/",
          "height": 390
        },
        "id": "PAR2T7fLO8FR",
        "outputId": "48002155-fae2-47c3-cea9-b75ec24d7e8f"
      },
      "source": [
        "#tembok\n",
        "x = 11 #jumlah tembok vertikal kanan-kiri\n",
        "y = 4  #jumlah embok Horizontal atas-bawah\n",
        "\n",
        "#field (tempat robot bergerak)\n",
        "field = np.ones((x,y))\n",
        "\n",
        "#playground adalah lingkungan yang didiami oleh robot\n",
        "playground = np.pad(field, ((1, 1), (1, 1)), constant_values=-1)\n",
        "\n",
        "#Beberapa modifikasi pada playground karena ada bagian tengah CAS yang tidak bisa dilewati\n",
        "playground[2:4,2:4]=-1\n",
        "playground[6:8,2]=-1\n",
        "playground[6,3]=-1\n",
        "playground[9:11,2:4]=-1\n",
        "\n",
        "#Munculkan peta sederhana dari CAS\n",
        "plt.figure(figsize=(12, 6))\n",
        "plt.title(\"Ruang CAS Sederhana\")\n",
        "plt.imshow(playground)\n",
        "plt.show()"
      ],
      "execution_count": 2,
      "outputs": [
        {
          "output_type": "display_data",
          "data": {
            "image/png": "[encoded data removed]",
            "text/plain": [
              "<Figure size 864x432 with 1 Axes>"
            ]
          },
          "metadata": {
            "tags": [],
            "needs_background": "light"
          }
        }
      ]
    },
    {
      "cell_type": "markdown",
      "metadata": {
        "id": "FoqAYUqhji4L"
      },
      "source": [
        "Berikut adalah nama-nama inisial dosen dan koordinat lokasi ruangannya"
      ]
    },
    {
      "cell_type": "code",
      "metadata": {
        "id": "dKxrt0FLfvAK"
      },
      "source": [
        "lokasi = {'I' :[11, 0], 'W' :[11, 5], 'K':[ 8, 0], 'TU':[ 7, 3], \n",
        "          'D' :[ 8, 5], 'R1':[ 6, 5], 'U':[ 5, 0], 'L' :[ 4, 2], \n",
        "          'N' :[ 5, 5], 'R2':[ 6, 0], 'H':[ 1, 0], 'E' :[ 1, 5]}\n",
        "\n",
        "akronim  = {'I':'Bu Irawati', 'W':'Pak Wono', 'K':'Pak Khreshna', 'TU': 'Tata Usaha MA', \n",
        "            'D':'Bu Dumaria', 'R1':'Rest Room 1', 'U':'Bu Utriweni', 'L':'Lift', 'N':'Bu Nuning', \n",
        "            'R2': 'Rest Room 2', 'H':'Pak Hendra', 'E':'Pak Edy Soewono'}"
      ],
      "execution_count": 6,
      "outputs": []
    },
    {
      "cell_type": "markdown",
      "metadata": {
        "id": "mxR7Nvy_kHJ2"
      },
      "source": [
        "## Algoritma Q learning"
      ]
    },
    {
      "cell_type": "markdown",
      "metadata": {
        "id": "1_EKY45lkvg5"
      },
      "source": [
        "Dibawah ini adalah algoritma dari Q learning. Penjelasan mengenai code perbaris ada dibawah ini. Perhatikan bahwa pada code yang saya buat, istilah \"lokasi\" atau \"posisi\" berbeda dengan \"state\". Untuk percobaan, disini kita ingin memindahkan robot dari koordinat [1,4] ke ruangan Bu Irawati"
      ]
    },
    {
      "cell_type": "code",
      "metadata": {
        "id": "3qHMOutJxSDK",
        "colab": {
          "base_uri": "https://localhost:8080/"
        },
        "outputId": "2f9fd2c4-bb83-4f6e-f765-740b2234754d"
      },
      "source": [
        "#all_state adalah semua state yang dapat ditempati oleh robot\n",
        "all_state      = [[i,j] for i in range(playground.shape[0]) for j in range(playground.shape[1])]\n",
        "\n",
        "#Dibawah ini adalah tabel Q\n",
        "Q = np.zeros([len(all_state),4])\n",
        "\n",
        "#Disini kita menentukan robot mulai dan berakhir dimana dimana\n",
        "start =  [1,4] #START\n",
        "target = \"I\"\n",
        "\n",
        "finish = lokasi[target] #FINISH\n",
        "playground[finish[0], finish[1]] = 20 #Untuk tempat finish, rewardnya diperbesar agar robot tertarik untuk datang kesana\n",
        "\n",
        "environment = np.copy(playground)\n",
        "\n",
        "#Selain reward pada tempat finish diperbesar, kita juga perlu memperbesar reward di sekitar finish\n",
        "#Hal ini dikarenakan agar robot jauh lebih tertarik ke arah finish\n",
        "#'If' yang banyak dibawah ini sebenarnya hanya untuk memastikan bahwa yang kita perbesar rewardnya bukanlah dinding\n",
        "if playground[finish[0]+1, finish[1]] > 0: \n",
        "    playground[finish[0]+1, finish[1]] = 2\n",
        "\n",
        "if playground[finish[0]-1, finish[1]] > 0:\n",
        "    playground[finish[0]-1, finish[1]] = 2\n",
        "\n",
        "if playground[finish[0], finish[1]+1] > 0:\n",
        "    playground[finish[0], finish[1]+1] = 2\n",
        "\n",
        "if playground[finish[0], finish[1]-1] > 0:\n",
        "    playground[finish[0], finish[1]-1] = 2\n",
        "\n",
        "# Setting parameter γ and α untuk Q-Learning\n",
        "γ = 0.9\n",
        "α = 0.2\n",
        "\n",
        "epochs = 25000\n",
        "\n",
        "for i in range(epochs):\n",
        "    #Pilih secara acak koordinat mula-mula\n",
        "    state_loc    = random.choice(all_state)\n",
        "\n",
        "    #Pastikan state yang dipilih secara acak bukanlah dinding\n",
        "    while playground[state_loc[0], state_loc[1]] == -1: #selama yang dipilih masih tembok, terus lakukan pemilihan state sampai yang dipilih bukan dinding\n",
        "        state_loc    = random.choice(all_state) \n",
        "    state        = all_state.index(state_loc) #ini adalah state dari koordinat yang telah terpilih barusan\n",
        "    \n",
        "    #choose next action : pilih arah selanjutnya secara acak\n",
        "    #Robot dapat memilih bergerak keatas, bawah, kanan, dan kiri. Maka dari itu disini kita cari tahu reward yang didapat dari pergerakan ke arah-arah tersebut\n",
        "    #Pastikan bahwa jika bergerak kearah dinding kita anggap gerakan tersebut memberikan reward 0 agar nantinya tidak terpilih sebagai action\n",
        "    atas         = playground[state_loc[0]-1, state_loc[1]]*(state_loc[0] != 0 )\n",
        "    bawah        = playground[state_loc[0]+1, state_loc[1]]*(state_loc[0] != 12)\n",
        "    kanan        = playground[state_loc[0], state_loc[1]+1]*(state_loc[1] != 5 )\n",
        "    kiri         = playground[state_loc[0], state_loc[1]-1]*(state_loc[1] != 0 )\n",
        "\n",
        "    sekitar_agen = np.array([atas, bawah, kanan, kiri]) #kumpulan gerakan yang mungkin. 1:atas, 2:bawah, 3:kanan, 4:kiri\n",
        "\n",
        "    action       = random.choice(np.where(sekitar_agen > 0)[0])  #pilih gerakan (action) secara acak\n",
        "\n",
        "    #perform action:\n",
        "    gerak          = np.array([-1,0]*(action == 0)+[1,0]*(action == 1)+[0,1]*(action == 2)+[0,-1]*(action == 3)) #pergerakan robot\n",
        "    next_state_loc = [x + y for x, y in zip(state_loc, gerak)] #disini terjadi perpindahan posisi robot akibat gerakan (action) yang diambil\n",
        "    next_state     = all_state.index(next_state_loc) #ini adalah state yang ditempati setelah robot berpindah\n",
        "\n",
        "    #Hitung temporal difference\n",
        "    TD = (playground[state_loc[0], state_loc[1]] + γ*Q[next_state, np.argmax(Q[next_state,:])]) - Q[state, action]\n",
        "    Q[state, action] += α*TD #update Q\n",
        "\n",
        "#Untuk code dibawah ini sebenarnya tidak berbeda jauh dengan code pada Q-learning oleh pak Syamsudin. Hanya saja ada beberapa modifikasi agar codenya bisa di run\n",
        "\n",
        "lintasan = [start]\n",
        "nextloc  = start #START\n",
        "\n",
        "j = 0\n",
        "d = 16 #ini adalah maksimum gerakan yang diperbolehkan (didapat dari panjang lintasan terpanjang yang mungkin tanpa bolak-balik)\n",
        "\n",
        "while (all_state.index(nextloc) != all_state.index(finish)):  #akan dipilih location berikutnya\n",
        "    initial  = all_state.index(nextloc) \n",
        "    action   = np.argmax(Q[initial,:])  #pilih gerakan berdasarkan nilai Q terbesar\n",
        "    gerak    = np.array([-1,0]*(action == 0)+[1,0]*(action == 1)+[0,1]*(action == 2)+[0,-1]*(action == 3))\n",
        "    nextloc  = [x + y for x, y in zip(nextloc, gerak)]\n",
        "    lintasan.append(nextloc)\n",
        "    j += 1\n",
        "    if j > d:  #belum pernah nyampe finish\n",
        "        print('Belum nyampe finish, perbesar epochs')\n",
        "        break"
      ],
      "execution_count": 4,
      "outputs": [
        {
          "output_type": "stream",
          "text": [
            "/usr/local/lib/python3.7/dist-packages/ipykernel_launcher.py:59: DeprecationWarning: In future, it will be an error for 'np.bool_' scalars to be interpreted as an index\n",
            "/usr/local/lib/python3.7/dist-packages/ipykernel_launcher.py:78: DeprecationWarning: In future, it will be an error for 'np.bool_' scalars to be interpreted as an index\n"
          ],
          "name": "stderr"
        }
      ]
    },
    {
      "cell_type": "markdown",
      "metadata": {
        "id": "GXiWQctDpJ1o"
      },
      "source": [
        "# Hasil Learning\n",
        "Hasil dari learning ini adalah berupa plot pergerakan robot di peta CAS"
      ]
    },
    {
      "cell_type": "code",
      "metadata": {
        "colab": {
          "base_uri": "https://localhost:8080/",
          "height": 1000
        },
        "id": "-a1jS0oDZGRp",
        "outputId": "83c59ab0-487f-4e48-9a07-5aae84763ab1"
      },
      "source": [
        "frame = []\n",
        "for i in lintasan:\n",
        "    mod             = np.copy(environment)\n",
        "    mod[i[0], i[1]] = 5\n",
        "    frame.append(mod)\n",
        "\n",
        "\n",
        "print(\"Pergerakan robot dari lokasi\", start ,\"ke\", akronim[target])\n",
        "\n",
        "\n",
        "for i in range(len(frame)):\n",
        "    plt.figure(figsize=(12, 6))\n",
        "    plt.title(\"step ke-\"+str(i+1))\n",
        "    plt.imshow(frame[i])\n",
        "    plt.show()\n",
        "\n",
        "print(\"Robot berhasil sampai\")"
      ],
      "execution_count": 12,
      "outputs": [
        {
          "output_type": "stream",
          "text": [
            "Pergerakan robot dari lokasi [1, 4] ke Bu Irawati\n"
          ],
          "name": "stdout"
        },
        {
          "output_type": "display_data",
          "data": {
            "image/png": "[encoded data removed]",
            "text/plain": [
              "<Figure size 864x432 with 1 Axes>"
            ]
          },
          "metadata": {
            "tags": [],
            "needs_background": "light"
          }
        },
        {
          "output_type": "display_data",
          "data": {
            "image/png": "[encoded data removed]",
            "text/plain": [
              "<Figure size 864x432 with 1 Axes>"
            ]
          },
          "metadata": {
            "tags": [],
            "needs_background": "light"
          }
        },
        {
          "output_type": "display_data",
          "data": {
            "image/png": "[encoded data removed]",
            "text/plain": [
              "<Figure size 864x432 with 1 Axes>"
            ]
          },
          "metadata": {
            "tags": [],
            "needs_background": "light"
          }
        },
        {
          "output_type": "display_data",
          "data": {
            "image/png": "[encoded data removed]",
            "text/plain": [
              "<Figure size 864x432 with 1 Axes>"
            ]
          },
          "metadata": {
            "tags": [],
            "needs_background": "light"
          }
        },
        {
          "output_type": "display_data",
          "data": {
            "image/png": "[encoded data removed]",
            "text/plain": [
              "<Figure size 864x432 with 1 Axes>"
            ]
          },
          "metadata": {
            "tags": [],
            "needs_background": "light"
          }
        },
        {
          "output_type": "display_data",
          "data": {
            "image/png": "[encoded data removed]",
            "text/plain": [
              "<Figure size 864x432 with 1 Axes>"
            ]
          },
          "metadata": {
            "tags": [],
            "needs_background": "light"
          }
        },
        {
          "output_type": "display_data",
          "data": {
            "image/png": "[encoded data removed]",
            "text/plain": [
              "<Figure size 864x432 with 1 Axes>"
            ]
          },
          "metadata": {
            "tags": [],
            "needs_background": "light"
          }
        },
        {
          "output_type": "display_data",
          "data": {
            "image/png": "[encoded data removed]",
            "text/plain": [
              "<Figure size 864x432 with 1 Axes>"
            ]
          },
          "metadata": {
            "tags": [],
            "needs_background": "light"
          }
        },
        {
          "output_type": "display_data",
          "data": {
            "image/png": "[encoded data removed]",
            "text/plain": [
              "<Figure size 864x432 with 1 Axes>"
            ]
          },
          "metadata": {
            "tags": [],
            "needs_background": "light"
          }
        },
        {
          "output_type": "display_data",
          "data": {
            "image/png": "[encoded data removed]",
            "text/plain": [
              "<Figure size 864x432 with 1 Axes>"
            ]
          },
          "metadata": {
            "tags": [],
            "needs_background": "light"
          }
        },
        {
          "output_type": "display_data",
          "data": {
            "image/png": "[encoded data removed]",
            "text/plain": [
              "<Figure size 864x432 with 1 Axes>"
            ]
          },
          "metadata": {
            "tags": [],
            "needs_background": "light"
          }
        },
        {
          "output_type": "display_data",
          "data": {
            "image/png": "[encoded data removed]",
            "text/plain": [
              "<Figure size 864x432 with 1 Axes>"
            ]
          },
          "metadata": {
            "tags": [],
            "needs_background": "light"
          }
        },
        {
          "output_type": "display_data",
          "data": {
            "image/png": "[encoded data removed]",
            "text/plain": [
              "<Figure size 864x432 with 1 Axes>"
            ]
          },
          "metadata": {
            "tags": [],
            "needs_background": "light"
          }
        },
        {
          "output_type": "display_data",
          "data": {
            "image/png": "[encoded data removed]",
            "text/plain": [
              "<Figure size 864x432 with 1 Axes>"
            ]
          },
          "metadata": {
            "tags": [],
            "needs_background": "light"
          }
        },
        {
          "output_type": "display_data",
          "data": {
            "image/png": "[encoded data removed]",
            "text/plain": [
              "<Figure size 864x432 with 1 Axes>"
            ]
          },
          "metadata": {
            "tags": [],
            "needs_background": "light"
          }
        },
        {
          "output_type": "stream",
          "text": [
            "Robot berhasil sampai\n"
          ],
          "name": "stdout"
        }
      ]
    }
  ]
}